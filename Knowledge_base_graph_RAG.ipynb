{
  "nbformat": 4,
  "nbformat_minor": 0,
  "metadata": {
    "colab": {
      "provenance": [],
      "gpuType": "T4"
    },
    "kernelspec": {
      "name": "python3",
      "display_name": "Python 3"
    },
    "language_info": {
      "name": "python"
    },
    "accelerator": "GPU",
    "widgets": {
      "application/vnd.jupyter.widget-state+json": {
        "3425fc4e21474f68b7fdd16b394f7a5e": {
          "model_module": "yfiles-jupyter-graphs",
          "model_name": "GraphModel",
          "model_module_version": "^1.8.1",
          "state": {
            "_context_pane_mapping": [
              {
                "id": "Neighborhood",
                "title": "Neighborhood"
              },
              {
                "id": "Data",
                "title": "Data"
              },
              {
                "id": "Search",
                "title": "Search"
              },
              {
                "id": "About",
                "title": "About"
              }
            ],
            "_data_importer": "neo4j",
            "_directed": true,
            "_dom_classes": [],
            "_edges": [
              {
                "id": 1152925902653358000,
                "start": 5,
                "end": 8,
                "properties": {
                  "label": "SIBLING"
                },
                "label": "SIBLING",
                "color": "#9E9E9E",
                "thickness_factor": 1,
                "directed": true
              },
              {
                "id": 1152933599234752500,
                "start": 5,
                "end": 14,
                "properties": {
                  "label": "SUPPORTED"
                },
                "label": "SUPPORTED",
                "color": "#9C27B0",
                "thickness_factor": 1,
                "directed": true
              },
              {
                "id": 1152936897769635800,
                "start": 5,
                "end": 6,
                "properties": {
                  "label": "RULER"
                },
                "label": "RULER",
                "color": "#2196F3",
                "thickness_factor": 1,
                "directed": true
              },
              {
                "id": 1152940196304519200,
                "start": 5,
                "end": 9,
                "properties": {
                  "label": "MOTHER"
                },
                "label": "MOTHER",
                "color": "#4CAF50",
                "thickness_factor": 1,
                "directed": true
              },
              {
                "id": 1152941295816147000,
                "start": 5,
                "end": 10,
                "properties": {
                  "label": "NEPHEW"
                },
                "label": "NEPHEW",
                "color": "#F44336",
                "thickness_factor": 1,
                "directed": true
              },
              {
                "id": 1155193095629832200,
                "start": 5,
                "end": 13,
                "properties": {
                  "label": "NEPHEW"
                },
                "label": "NEPHEW",
                "color": "#F44336",
                "thickness_factor": 1,
                "directed": true
              },
              {
                "id": 1152942395327774700,
                "start": 5,
                "end": 11,
                "properties": {
                  "label": "COUSIN"
                },
                "label": "COUSIN",
                "color": "#607D8B",
                "thickness_factor": 1,
                "directed": true
              },
              {
                "id": 1152943494839402500,
                "start": 5,
                "end": 12,
                "properties": {
                  "label": "GREAT-NEPHEW"
                },
                "label": "GREAT-NEPHEW",
                "color": "#673AB7",
                "thickness_factor": 1,
                "directed": true
              },
              {
                "id": 1152944594351030300,
                "start": 5,
                "end": 17,
                "properties": {
                  "label": "COLLABORATED"
                },
                "label": "COLLABORATED",
                "color": "#CDDC39",
                "thickness_factor": 1,
                "directed": true
              },
              {
                "id": 1153006167002185700,
                "start": 5,
                "end": 15,
                "properties": {
                  "label": "ENCOURAGED"
                },
                "label": "ENCOURAGED",
                "color": "#9E9E9E",
                "thickness_factor": 1,
                "directed": true
              },
              {
                "id": 1153008366025441300,
                "start": 5,
                "end": 18,
                "properties": {
                  "label": "OPPONENT"
                },
                "label": "OPPONENT",
                "color": "#9C27B0",
                "thickness_factor": 1,
                "directed": true
              },
              {
                "id": 1153012764071952400,
                "start": 5,
                "end": 7,
                "properties": {
                  "label": "DAUGHTER"
                },
                "label": "DAUGHTER",
                "color": "#2196F3",
                "thickness_factor": 1,
                "directed": true
              },
              {
                "id": 1153058943560319000,
                "start": 5,
                "end": 16,
                "properties": {
                  "label": "FAVORED"
                },
                "label": "FAVORED",
                "color": "#4CAF50",
                "thickness_factor": 1,
                "directed": true
              },
              {
                "id": 1155189797094948900,
                "start": 7,
                "end": 11,
                "properties": {
                  "label": "FATHER"
                },
                "label": "FATHER",
                "color": "#F44336",
                "thickness_factor": 1,
                "directed": true
              },
              {
                "id": 1152937997281263600,
                "start": 7,
                "end": 160,
                "properties": {
                  "label": "FATHER"
                },
                "label": "FATHER",
                "color": "#F44336",
                "thickness_factor": 1,
                "directed": true
              },
              {
                "id": 1152958888002191400,
                "start": 7,
                "end": 28,
                "properties": {
                  "label": "GIVEN_TITLE"
                },
                "label": "GIVEN_TITLE",
                "color": "#607D8B",
                "thickness_factor": 1,
                "directed": true
              },
              {
                "id": 1152959987513819100,
                "start": 7,
                "end": 30,
                "properties": {
                  "label": "FIRST_WIFE"
                },
                "label": "FIRST_WIFE",
                "color": "#673AB7",
                "thickness_factor": 1,
                "directed": true
              },
              {
                "id": 1152994072374280200,
                "start": 7,
                "end": 25,
                "properties": {
                  "label": "SPOUSE"
                },
                "label": "SPOUSE",
                "color": "#CDDC39",
                "thickness_factor": 1,
                "directed": true
              },
              {
                "id": 1153046848932413400,
                "start": 7,
                "end": 29,
                "properties": {
                  "label": "SON"
                },
                "label": "SON",
                "color": "#9E9E9E",
                "thickness_factor": 1,
                "directed": true
              },
              {
                "id": 1152948992397541400,
                "start": 18,
                "end": 21,
                "properties": {
                  "label": "CONSIDERING_SURRENDER"
                },
                "label": "CONSIDERING_SURRENDER",
                "color": "#9C27B0",
                "thickness_factor": 1,
                "directed": true
              },
              {
                "id": 1153009465537069000,
                "start": 20,
                "end": 21,
                "properties": {
                  "label": "VICTORY"
                },
                "label": "VICTORY",
                "color": "#2196F3",
                "thickness_factor": 1,
                "directed": true
              },
              {
                "id": 1153010565048696800,
                "start": 20,
                "end": 22,
                "properties": {
                  "label": "OCCUPATION"
                },
                "label": "OCCUPATION",
                "color": "#4CAF50",
                "thickness_factor": 1,
                "directed": true
              },
              {
                "id": 1152951191420797000,
                "start": 23,
                "end": 24,
                "properties": {
                  "label": "LAST_AGNATIC_MEMBER"
                },
                "label": "LAST_AGNATIC_MEMBER",
                "color": "#F44336",
                "thickness_factor": 1,
                "directed": true
              },
              {
                "id": 1153011664560324600,
                "start": 23,
                "end": 23,
                "properties": {
                  "label": "DEATH"
                },
                "label": "DEATH",
                "color": "#607D8B",
                "thickness_factor": 1,
                "directed": true
              },
              {
                "id": 1152954489955680300,
                "start": 25,
                "end": 26,
                "properties": {
                  "label": "DAUGHTER_OF"
                },
                "label": "DAUGHTER_OF",
                "color": "#673AB7",
                "thickness_factor": 1,
                "directed": true
              },
              {
                "id": 1152955589467308000,
                "start": 25,
                "end": 27,
                "properties": {
                  "label": "NATIONALITY"
                },
                "label": "NATIONALITY",
                "color": "#CDDC39",
                "thickness_factor": 1,
                "directed": true
              },
              {
                "id": 1152961087025447000,
                "start": 32,
                "end": 33,
                "properties": {
                  "label": "INVOLVED_IN"
                },
                "label": "INVOLVED_IN",
                "color": "#9E9E9E",
                "thickness_factor": 1,
                "directed": true
              },
              {
                "id": 1152962186537074700,
                "start": 33,
                "end": 35,
                "properties": {
                  "label": "SPANS"
                },
                "label": "SPANS",
                "color": "#9C27B0",
                "thickness_factor": 1,
                "directed": true
              },
              {
                "id": 1153060043071946800,
                "start": 33,
                "end": 34,
                "properties": {
                  "label": "INVOLVES"
                },
                "label": "INVOLVES",
                "color": "#2196F3",
                "thickness_factor": 1,
                "directed": true
              },
              {
                "id": 1153061142583574500,
                "start": 33,
                "end": 36,
                "properties": {
                  "label": "CONTAINS"
                },
                "label": "CONTAINS",
                "color": "#4CAF50",
                "thickness_factor": 1,
                "directed": true
              },
              {
                "id": 1153063341606830000,
                "start": 34,
                "end": 40,
                "properties": {
                  "label": "DEPICTS"
                },
                "label": "DEPICTS",
                "color": "#F44336",
                "thickness_factor": 1,
                "directed": true
              },
              {
                "id": 1153062242095202300,
                "start": 36,
                "end": 37,
                "properties": {
                  "label": "INCLUDE"
                },
                "label": "INCLUDE",
                "color": "#607D8B",
                "thickness_factor": 1,
                "directed": true
              },
              {
                "id": 1153062242095202300,
                "start": 37,
                "end": 38,
                "properties": {
                  "label": "INCLUDE"
                },
                "label": "INCLUDE",
                "color": "#607D8B",
                "thickness_factor": 1,
                "directed": true
              },
              {
                "id": 1155314041908887600,
                "start": 37,
                "end": 39,
                "properties": {
                  "label": "INCLUDE"
                },
                "label": "INCLUDE",
                "color": "#607D8B",
                "thickness_factor": 1,
                "directed": true
              },
              {
                "id": 1153062242095202300,
                "start": 40,
                "end": 41,
                "properties": {
                  "label": "INCLUDE"
                },
                "label": "INCLUDE",
                "color": "#607D8B",
                "thickness_factor": 1,
                "directed": true
              },
              {
                "id": 1155314041908887600,
                "start": 40,
                "end": 42,
                "properties": {
                  "label": "INCLUDE"
                },
                "label": "INCLUDE",
                "color": "#607D8B",
                "thickness_factor": 1,
                "directed": true
              },
              {
                "id": 1157565841722572800,
                "start": 40,
                "end": 43,
                "properties": {
                  "label": "INCLUDE"
                },
                "label": "INCLUDE",
                "color": "#607D8B",
                "thickness_factor": 1,
                "directed": true
              },
              {
                "id": 1159817641536258000,
                "start": 40,
                "end": 44,
                "properties": {
                  "label": "INCLUDE"
                },
                "label": "INCLUDE",
                "color": "#607D8B",
                "thickness_factor": 1,
                "directed": true
              },
              {
                "id": 1162069441349943300,
                "start": 40,
                "end": 45,
                "properties": {
                  "label": "INCLUDE"
                },
                "label": "INCLUDE",
                "color": "#607D8B",
                "thickness_factor": 1,
                "directed": true
              },
              {
                "id": 1164321241163628500,
                "start": 40,
                "end": 46,
                "properties": {
                  "label": "INCLUDE"
                },
                "label": "INCLUDE",
                "color": "#607D8B",
                "thickness_factor": 1,
                "directed": true
              },
              {
                "id": 1166573040977313800,
                "start": 40,
                "end": 47,
                "properties": {
                  "label": "INCLUDE"
                },
                "label": "INCLUDE",
                "color": "#607D8B",
                "thickness_factor": 1,
                "directed": true
              },
              {
                "id": 1168824840790999000,
                "start": 40,
                "end": 48,
                "properties": {
                  "label": "INCLUDE"
                },
                "label": "INCLUDE",
                "color": "#607D8B",
                "thickness_factor": 1,
                "directed": true
              },
              {
                "id": 1171076640604684300,
                "start": 40,
                "end": 49,
                "properties": {
                  "label": "INCLUDE"
                },
                "label": "INCLUDE",
                "color": "#607D8B",
                "thickness_factor": 1,
                "directed": true
              },
              {
                "id": 1173328440418369500,
                "start": 40,
                "end": 50,
                "properties": {
                  "label": "INCLUDE"
                },
                "label": "INCLUDE",
                "color": "#607D8B",
                "thickness_factor": 1,
                "directed": true
              },
              {
                "id": 1153063341606830000,
                "start": 50,
                "end": 51,
                "properties": {
                  "label": "DEPICTS"
                },
                "label": "DEPICTS",
                "color": "#F44336",
                "thickness_factor": 1,
                "directed": true
              },
              {
                "id": 1152972082141724700,
                "start": 52,
                "end": 53,
                "properties": {
                  "label": "DEVELOPED_FROM"
                },
                "label": "DEVELOPED_FROM",
                "color": "#673AB7",
                "thickness_factor": 1,
                "directed": true
              },
              {
                "id": 1153005067490558000,
                "start": 52,
                "end": 147,
                "properties": {
                  "label": "INFLUENCED_BY"
                },
                "label": "INFLUENCED_BY",
                "color": "#CDDC39",
                "thickness_factor": 1,
                "directed": true
              },
              {
                "id": 1152972082141724700,
                "start": 53,
                "end": 54,
                "properties": {
                  "label": "DEVELOPED_FROM"
                },
                "label": "DEVELOPED_FROM",
                "color": "#673AB7",
                "thickness_factor": 1,
                "directed": true
              },
              {
                "id": 1152976480188235800,
                "start": 53,
                "end": 58,
                "properties": {
                  "label": "STIFFENED_BY"
                },
                "label": "STIFFENED_BY",
                "color": "#9E9E9E",
                "thickness_factor": 1,
                "directed": true
              },
              {
                "id": 1153023759188230100,
                "start": 53,
                "end": 56,
                "properties": {
                  "label": "CREATED_WITH"
                },
                "label": "CREATED_WITH",
                "color": "#9C27B0",
                "thickness_factor": 1,
                "directed": true
              }
            ],
            "_graph_layout": {},
            "_highlight": [],
            "_license": {},
            "_model_module": "yfiles-jupyter-graphs",
            "_model_module_version": "^1.8.1",
            "_model_name": "GraphModel",
            "_neighborhood": {},
            "_nodes": [
              {
                "id": 5,
                "properties": {
                  "id": "Elizabeth Petrovna",
                  "label": "Empress:__Entity__"
                },
                "color": "#2196F3",
                "styles": {},
                "label": "Elizabeth Petrovna",
                "scale_factor": 1,
                "type": "#2196F3",
                "size": [
                  55,
                  55
                ],
                "position": [
                  0,
                  0
                ]
              },
              {
                "id": 8,
                "properties": {
                  "id": "Alexei",
                  "label": "__Entity__:Person"
                },
                "color": "#4CAF50",
                "styles": {},
                "label": "Alexei",
                "scale_factor": 1,
                "type": "#4CAF50",
                "size": [
                  55,
                  55
                ],
                "position": [
                  0,
                  0
                ]
              },
              {
                "id": 14,
                "properties": {
                  "id": "Mikhail Lomonosov",
                  "label": "__Entity__:Person"
                },
                "color": "#4CAF50",
                "styles": {},
                "label": "Mikhail Lomonosov",
                "scale_factor": 1,
                "type": "#4CAF50",
                "size": [
                  55,
                  55
                ],
                "position": [
                  0,
                  0
                ]
              },
              {
                "id": 6,
                "properties": {
                  "id": "Russia",
                  "label": "__Entity__:Country"
                },
                "color": "#F44336",
                "styles": {},
                "label": "Russia",
                "scale_factor": 1,
                "type": "#F44336",
                "size": [
                  55,
                  55
                ],
                "position": [
                  0,
                  0
                ]
              },
              {
                "id": 9,
                "properties": {
                  "id": "Catherine I Of Russia",
                  "label": "Empress:__Entity__"
                },
                "color": "#2196F3",
                "styles": {},
                "label": "Catherine I Of Russia",
                "scale_factor": 1,
                "type": "#2196F3",
                "size": [
                  55,
                  55
                ],
                "position": [
                  0,
                  0
                ]
              },
              {
                "id": 10,
                "properties": {
                  "id": "Peter Ii",
                  "label": "__Entity__:Person"
                },
                "color": "#4CAF50",
                "styles": {},
                "label": "Peter Ii",
                "scale_factor": 1,
                "type": "#4CAF50",
                "size": [
                  55,
                  55
                ],
                "position": [
                  0,
                  0
                ]
              },
              {
                "id": 13,
                "properties": {
                  "id": "Peter Iii",
                  "label": "__Entity__:Person"
                },
                "color": "#4CAF50",
                "styles": {},
                "label": "Peter Iii",
                "scale_factor": 1,
                "type": "#4CAF50",
                "size": [
                  55,
                  55
                ],
                "position": [
                  0,
                  0
                ]
              },
              {
                "id": 11,
                "properties": {
                  "id": "Anna",
                  "label": "Empress:__Entity__:Person"
                },
                "color": "#607D8B",
                "styles": {},
                "label": "Anna",
                "scale_factor": 1,
                "type": "#607D8B",
                "size": [
                  55,
                  55
                ],
                "position": [
                  0,
                  0
                ]
              },
              {
                "id": 12,
                "properties": {
                  "id": "Ivan Vi",
                  "label": "__Entity__:Person"
                },
                "color": "#4CAF50",
                "styles": {},
                "label": "Ivan Vi",
                "scale_factor": 1,
                "type": "#4CAF50",
                "size": [
                  55,
                  55
                ],
                "position": [
                  0,
                  0
                ]
              },
              {
                "id": 17,
                "properties": {
                  "id": "Aleksey Bestuzhev-Ryumin",
                  "label": "__Entity__:Diplomat"
                },
                "color": "#673AB7",
                "styles": {},
                "label": "Aleksey Bestuzhev-Ryumin",
                "scale_factor": 1,
                "type": "#673AB7",
                "size": [
                  55,
                  55
                ],
                "position": [
                  0,
                  0
                ]
              },
              {
                "id": 15,
                "properties": {
                  "id": "Ivan Shuvalov",
                  "label": "__Entity__:Person"
                },
                "color": "#4CAF50",
                "styles": {},
                "label": "Ivan Shuvalov",
                "scale_factor": 1,
                "type": "#4CAF50",
                "size": [
                  55,
                  55
                ],
                "position": [
                  0,
                  0
                ]
              },
              {
                "id": 18,
                "properties": {
                  "id": "Frederick The Great",
                  "label": "__Entity__:Person"
                },
                "color": "#4CAF50",
                "styles": {},
                "label": "Frederick The Great",
                "scale_factor": 1,
                "type": "#4CAF50",
                "size": [
                  55,
                  55
                ],
                "position": [
                  0,
                  0
                ]
              },
              {
                "id": 7,
                "properties": {
                  "id": "Peter The Great",
                  "label": "__Entity__:Tsar:Person"
                },
                "color": "#CDDC39",
                "styles": {},
                "label": "Peter The Great",
                "scale_factor": 1,
                "type": "#CDDC39",
                "size": [
                  55,
                  55
                ],
                "position": [
                  0,
                  0
                ]
              },
              {
                "id": 16,
                "properties": {
                  "id": "Bartolomeo Rastrelli",
                  "label": "__Entity__:Architect"
                },
                "color": "#9E9E9E",
                "styles": {},
                "label": "Bartolomeo Rastrelli",
                "scale_factor": 1,
                "type": "#9E9E9E",
                "size": [
                  55,
                  55
                ],
                "position": [
                  0,
                  0
                ]
              },
              {
                "id": 160,
                "properties": {
                  "id": "Elizabeth",
                  "label": "__Entity__:Person:Monarch"
                },
                "color": "#9C27B0",
                "styles": {},
                "label": "Elizabeth",
                "scale_factor": 1,
                "type": "#9C27B0",
                "size": [
                  55,
                  55
                ],
                "position": [
                  0,
                  0
                ]
              },
              {
                "id": 28,
                "properties": {
                  "id": "Tsarevna",
                  "label": "Title:__Entity__"
                },
                "color": "#2196F3",
                "styles": {},
                "label": "Tsarevna",
                "scale_factor": 1,
                "type": "#2196F3",
                "size": [
                  55,
                  55
                ],
                "position": [
                  0,
                  0
                ]
              },
              {
                "id": 30,
                "properties": {
                  "id": "Eudoxia Lopukhina",
                  "label": "__Entity__:Person"
                },
                "color": "#4CAF50",
                "styles": {},
                "label": "Eudoxia Lopukhina",
                "scale_factor": 1,
                "type": "#4CAF50",
                "size": [
                  55,
                  55
                ],
                "position": [
                  0,
                  0
                ]
              },
              {
                "id": 25,
                "properties": {
                  "id": "Catherine",
                  "label": "__Entity__:Person"
                },
                "color": "#4CAF50",
                "styles": {},
                "label": "Catherine",
                "scale_factor": 1,
                "type": "#4CAF50",
                "size": [
                  55,
                  55
                ],
                "position": [
                  0,
                  0
                ]
              },
              {
                "id": 29,
                "properties": {
                  "id": "Alexei Petrovich",
                  "label": "__Entity__:Person"
                },
                "color": "#4CAF50",
                "styles": {},
                "label": "Alexei Petrovich",
                "scale_factor": 1,
                "type": "#4CAF50",
                "size": [
                  55,
                  55
                ],
                "position": [
                  0,
                  0
                ]
              },
              {
                "id": 21,
                "properties": {
                  "id": "Prussia",
                  "label": "__Entity__:Country"
                },
                "color": "#F44336",
                "styles": {},
                "label": "Prussia",
                "scale_factor": 1,
                "type": "#F44336",
                "size": [
                  55,
                  55
                ],
                "position": [
                  0,
                  0
                ]
              },
              {
                "id": 20,
                "properties": {
                  "id": "Russian Troops",
                  "label": "__Entity__:Military"
                },
                "color": "#4CAF50",
                "styles": {},
                "label": "Russian Troops",
                "scale_factor": 1,
                "type": "#4CAF50",
                "size": [
                  55,
                  55
                ],
                "position": [
                  0,
                  0
                ]
              },
              {
                "id": 22,
                "properties": {
                  "id": "Berlin",
                  "label": "__Entity__:City"
                },
                "color": "#F44336",
                "styles": {},
                "label": "Berlin",
                "scale_factor": 1,
                "type": "#F44336",
                "size": [
                  55,
                  55
                ],
                "position": [
                  0,
                  0
                ]
              },
              {
                "id": 23,
                "properties": {
                  "id": "Russian Empress",
                  "label": "__Entity__:Person"
                },
                "color": "#4CAF50",
                "styles": {},
                "label": "Russian Empress",
                "scale_factor": 1,
                "type": "#4CAF50",
                "size": [
                  55,
                  55
                ],
                "position": [
                  0,
                  0
                ]
              },
              {
                "id": 24,
                "properties": {
                  "id": "House Of Romanov",
                  "label": "__Entity__:Royal family"
                },
                "color": "#607D8B",
                "styles": {},
                "label": "House Of Romanov",
                "scale_factor": 1,
                "type": "#607D8B",
                "size": [
                  55,
                  55
                ],
                "position": [
                  0,
                  0
                ]
              },
              {
                "id": 26,
                "properties": {
                  "id": "Samuel Skowroński",
                  "label": "__Entity__:Person"
                },
                "color": "#4CAF50",
                "styles": {},
                "label": "Samuel Skowroński",
                "scale_factor": 1,
                "type": "#4CAF50",
                "size": [
                  55,
                  55
                ],
                "position": [
                  0,
                  0
                ]
              },
              {
                "id": 27,
                "properties": {
                  "id": "Grand Duchy Of Lithuania",
                  "label": "__Entity__:Country"
                },
                "color": "#F44336",
                "styles": {},
                "label": "Grand Duchy Of Lithuania",
                "scale_factor": 1,
                "type": "#F44336",
                "size": [
                  55,
                  55
                ],
                "position": [
                  0,
                  0
                ]
              },
              {
                "id": 32,
                "properties": {
                  "id": "Queen Elizabeth I",
                  "label": "__Entity__:Person"
                },
                "color": "#4CAF50",
                "styles": {},
                "label": "Queen Elizabeth I",
                "scale_factor": 1,
                "type": "#4CAF50",
                "size": [
                  55,
                  55
                ],
                "position": [
                  0,
                  0
                ]
              },
              {
                "id": 33,
                "properties": {
                  "id": "Portraiture",
                  "label": "__Entity__:Concept"
                },
                "color": "#673AB7",
                "styles": {},
                "label": "Portraiture",
                "scale_factor": 1,
                "type": "#673AB7",
                "size": [
                  55,
                  55
                ],
                "position": [
                  0,
                  0
                ]
              },
              {
                "id": 35,
                "properties": {
                  "id": "Early Modern Period",
                  "label": "__Entity__:Time period"
                },
                "color": "#CDDC39",
                "styles": {},
                "label": "Early Modern Period",
                "scale_factor": 1,
                "type": "#CDDC39",
                "size": [
                  55,
                  55
                ],
                "position": [
                  0,
                  0
                ]
              },
              {
                "id": 34,
                "properties": {
                  "id": "English Royal Portraits",
                  "label": "__Entity__:Concept"
                },
                "color": "#673AB7",
                "styles": {},
                "label": "English Royal Portraits",
                "scale_factor": 1,
                "type": "#673AB7",
                "size": [
                  55,
                  55
                ],
                "position": [
                  0,
                  0
                ]
              },
              {
                "id": 36,
                "properties": {
                  "id": "Representations",
                  "label": "__Entity__:Concept"
                },
                "color": "#673AB7",
                "styles": {},
                "label": "Representations",
                "scale_factor": 1,
                "type": "#673AB7",
                "size": [
                  55,
                  55
                ],
                "position": [
                  0,
                  0
                ]
              },
              {
                "id": 40,
                "properties": {
                  "id": "Iconography Of Empire",
                  "label": "__Entity__:Concept"
                },
                "color": "#673AB7",
                "styles": {},
                "label": "Iconography Of Empire",
                "scale_factor": 1,
                "type": "#673AB7",
                "size": [
                  55,
                  55
                ],
                "position": [
                  0,
                  0
                ]
              },
              {
                "id": 37,
                "properties": {
                  "id": "Symbolic Objects",
                  "label": "__Entity__:Concept"
                },
                "color": "#673AB7",
                "styles": {},
                "label": "Symbolic Objects",
                "scale_factor": 1,
                "type": "#673AB7",
                "size": [
                  55,
                  55
                ],
                "position": [
                  0,
                  0
                ]
              },
              {
                "id": 38,
                "properties": {
                  "id": "Roses",
                  "label": "__Entity__:Concept"
                },
                "color": "#673AB7",
                "styles": {},
                "label": "Roses",
                "scale_factor": 1,
                "type": "#673AB7",
                "size": [
                  55,
                  55
                ],
                "position": [
                  0,
                  0
                ]
              },
              {
                "id": 39,
                "properties": {
                  "id": "Prayer Books",
                  "label": "__Entity__:Concept"
                },
                "color": "#673AB7",
                "styles": {},
                "label": "Prayer Books",
                "scale_factor": 1,
                "type": "#673AB7",
                "size": [
                  55,
                  55
                ],
                "position": [
                  0,
                  0
                ]
              },
              {
                "id": 41,
                "properties": {
                  "id": "Globes",
                  "label": "__Entity__:Concept"
                },
                "color": "#673AB7",
                "styles": {},
                "label": "Globes",
                "scale_factor": 1,
                "type": "#673AB7",
                "size": [
                  55,
                  55
                ],
                "position": [
                  0,
                  0
                ]
              },
              {
                "id": 42,
                "properties": {
                  "id": "Crowns",
                  "label": "__Entity__:Concept"
                },
                "color": "#673AB7",
                "styles": {},
                "label": "Crowns",
                "scale_factor": 1,
                "type": "#673AB7",
                "size": [
                  55,
                  55
                ],
                "position": [
                  0,
                  0
                ]
              },
              {
                "id": 43,
                "properties": {
                  "id": "Swords",
                  "label": "__Entity__:Concept"
                },
                "color": "#673AB7",
                "styles": {},
                "label": "Swords",
                "scale_factor": 1,
                "type": "#673AB7",
                "size": [
                  55,
                  55
                ],
                "position": [
                  0,
                  0
                ]
              },
              {
                "id": 44,
                "properties": {
                  "id": "Columns",
                  "label": "__Entity__:Concept"
                },
                "color": "#673AB7",
                "styles": {},
                "label": "Columns",
                "scale_factor": 1,
                "type": "#673AB7",
                "size": [
                  55,
                  55
                ],
                "position": [
                  0,
                  0
                ]
              },
              {
                "id": 45,
                "properties": {
                  "id": "Virginity",
                  "label": "__Entity__:Concept"
                },
                "color": "#673AB7",
                "styles": {},
                "label": "Virginity",
                "scale_factor": 1,
                "type": "#673AB7",
                "size": [
                  55,
                  55
                ],
                "position": [
                  0,
                  0
                ]
              },
              {
                "id": 46,
                "properties": {
                  "id": "Purity",
                  "label": "__Entity__:Concept"
                },
                "color": "#673AB7",
                "styles": {},
                "label": "Purity",
                "scale_factor": 1,
                "type": "#673AB7",
                "size": [
                  55,
                  55
                ],
                "position": [
                  0,
                  0
                ]
              },
              {
                "id": 47,
                "properties": {
                  "id": "Moons",
                  "label": "__Entity__:Concept"
                },
                "color": "#673AB7",
                "styles": {},
                "label": "Moons",
                "scale_factor": 1,
                "type": "#673AB7",
                "size": [
                  55,
                  55
                ],
                "position": [
                  0,
                  0
                ]
              },
              {
                "id": 48,
                "properties": {
                  "id": "Pearls",
                  "label": "__Entity__:Concept"
                },
                "color": "#673AB7",
                "styles": {},
                "label": "Pearls",
                "scale_factor": 1,
                "type": "#673AB7",
                "size": [
                  55,
                  55
                ],
                "position": [
                  0,
                  0
                ]
              },
              {
                "id": 49,
                "properties": {
                  "id": "Classical Allusions",
                  "label": "__Entity__:Concept"
                },
                "color": "#673AB7",
                "styles": {},
                "label": "Classical Allusions",
                "scale_factor": 1,
                "type": "#673AB7",
                "size": [
                  55,
                  55
                ],
                "position": [
                  0,
                  0
                ]
              },
              {
                "id": 50,
                "properties": {
                  "id": "Story",
                  "label": "__Entity__:Concept"
                },
                "color": "#673AB7",
                "styles": {},
                "label": "Story",
                "scale_factor": 1,
                "type": "#673AB7",
                "size": [
                  55,
                  55
                ],
                "position": [
                  0,
                  0
                ]
              },
              {
                "id": 51,
                "properties": {
                  "id": "Virgin Queen",
                  "label": "__Entity__:Concept"
                },
                "color": "#673AB7",
                "styles": {},
                "label": "Virgin Queen",
                "scale_factor": 1,
                "type": "#673AB7",
                "size": [
                  55,
                  55
                ],
                "position": [
                  0,
                  0
                ]
              },
              {
                "id": 52,
                "properties": {
                  "id": "Tudor Court",
                  "label": "__Entity__:Concept"
                },
                "color": "#673AB7",
                "styles": {},
                "label": "Tudor Court",
                "scale_factor": 1,
                "type": "#673AB7",
                "size": [
                  55,
                  55
                ],
                "position": [
                  0,
                  0
                ]
              },
              {
                "id": 53,
                "properties": {
                  "id": "Portrait Miniature",
                  "label": "__Entity__:Concept"
                },
                "color": "#673AB7",
                "styles": {},
                "label": "Portrait Miniature",
                "scale_factor": 1,
                "type": "#673AB7",
                "size": [
                  55,
                  55
                ],
                "position": [
                  0,
                  0
                ]
              },
              {
                "id": 147,
                "properties": {
                  "id": "Henry Viii",
                  "label": "__Entity__:Person:Monarch"
                },
                "color": "#9C27B0",
                "styles": {},
                "label": "Henry Viii",
                "scale_factor": 1,
                "type": "#9C27B0",
                "size": [
                  55,
                  55
                ],
                "position": [
                  0,
                  0
                ]
              },
              {
                "id": 54,
                "properties": {
                  "id": "Illuminated Manuscript Tradition",
                  "label": "__Entity__:Concept"
                },
                "color": "#673AB7",
                "styles": {},
                "label": "Illuminated Manuscript Tradition",
                "scale_factor": 1,
                "type": "#673AB7",
                "size": [
                  55,
                  55
                ],
                "position": [
                  0,
                  0
                ]
              },
              {
                "id": 58,
                "properties": {
                  "id": "Playing Card",
                  "label": "__Entity__:Concept"
                },
                "color": "#673AB7",
                "styles": {},
                "label": "Playing Card",
                "scale_factor": 1,
                "type": "#673AB7",
                "size": [
                  55,
                  55
                ],
                "position": [
                  0,
                  0
                ]
              },
              {
                "id": 56,
                "properties": {
                  "id": "Watercolours",
                  "label": "__Entity__:Concept"
                },
                "color": "#673AB7",
                "styles": {},
                "label": "Watercolours",
                "scale_factor": 1,
                "type": "#673AB7",
                "size": [
                  55,
                  55
                ],
                "position": [
                  0,
                  0
                ]
              }
            ],
            "_overview": {
              "enabled": null,
              "overview_set": false
            },
            "_selected_graph": [
              [],
              []
            ],
            "_sidebar": {
              "enabled": false,
              "start_with": null
            },
            "_view_count": null,
            "_view_module": "yfiles-jupyter-graphs",
            "_view_module_version": "^1.8.1",
            "_view_name": "GraphView",
            "layout": "IPY_MODEL_8c6b36940701421a8df3c3fa16362d77",
            "tabbable": null,
            "tooltip": null
          }
        },
        "8c6b36940701421a8df3c3fa16362d77": {
          "model_module": "@jupyter-widgets/base",
          "model_name": "LayoutModel",
          "model_module_version": "2.0.0",
          "state": {
            "_model_module": "@jupyter-widgets/base",
            "_model_module_version": "2.0.0",
            "_model_name": "LayoutModel",
            "_view_count": null,
            "_view_module": "@jupyter-widgets/base",
            "_view_module_version": "2.0.0",
            "_view_name": "LayoutView",
            "align_content": null,
            "align_items": null,
            "align_self": null,
            "border_bottom": null,
            "border_left": null,
            "border_right": null,
            "border_top": null,
            "bottom": null,
            "display": null,
            "flex": null,
            "flex_flow": null,
            "grid_area": null,
            "grid_auto_columns": null,
            "grid_auto_flow": null,
            "grid_auto_rows": null,
            "grid_column": null,
            "grid_gap": null,
            "grid_row": null,
            "grid_template_areas": null,
            "grid_template_columns": null,
            "grid_template_rows": null,
            "height": "800px",
            "justify_content": null,
            "justify_items": null,
            "left": null,
            "margin": null,
            "max_height": null,
            "max_width": null,
            "min_height": null,
            "min_width": null,
            "object_fit": null,
            "object_position": null,
            "order": null,
            "overflow": null,
            "padding": null,
            "right": null,
            "top": null,
            "visibility": null,
            "width": "100%"
          }
        }
      }
    }
  },
  "cells": [
    {
      "cell_type": "markdown",
      "source": [],
      "metadata": {
        "id": "Ai-SVpPkhrCV"
      }
    },
    {
      "cell_type": "code",
      "execution_count": 1,
      "metadata": {
        "id": "gkZEj3jvg7Mv"
      },
      "outputs": [],
      "source": [
        "%pip install --upgrade --quiet langchain langchain-community langchain-openai langchain-experimental"
      ]
    },
    {
      "cell_type": "markdown",
      "source": [
        "When the user ask a query then we gonna embed it and search the vector store(which is already having all the dcouments divided into chunks of data and converted into embed vectors)with similarity search, so that we can retriev the results that matches with the users query. This is the general RAG pipeline in simple terms.\n",
        "\n",
        "In knowledge based Graph RAG the retieval process(the context which matches with the user query and the data which we pass to LLM) can be done in 3 steps.\n",
        "* when the user asks the query we gonna embed it first.\n",
        "* Then we perform keyword search, vector search with all the documents of unstructured text or data along with this we also perform graph search on knowledge base graph.\n",
        "* finally we combine the results of both the searches and produce a final retrieval information.\n",
        "\n",
        "The retrieved information is then passed into LLM to produce or generate the final output which user see."
      ],
      "metadata": {
        "id": "oNv0k3PAj4qP"
      }
    },
    {
      "cell_type": "code",
      "source": [
        "NEO4J_URI=\"neo4j+s://ddcda977.databases.neo4j.io\"\n",
        "NEO4J_USERNAME=\"neo4j\"\n",
        "NEO4J_PASSWORD=\"44FK6OcE4uNxgZ-qaUW_7_RZ3sMtLt_ZFLp6lP1dXhI\"\n",
        "\n",
        "\n",
        "OPENAI_API_KEY = \"sk-gvnggMHBiBjSnbd9x6Ya_sM2vDLHOMffQ4BbGMZJQGT3BlbkFJ-Eln-RTTvdAzk6BlTsMgSxQoYqWyLyVnsKEwiLkucA\""
      ],
      "metadata": {
        "id": "49VNbYjQiCAs"
      },
      "execution_count": 2,
      "outputs": []
    },
    {
      "cell_type": "code",
      "source": [
        "!pip install neo4j tiktoken yfiles_jupyter_graphs"
      ],
      "metadata": {
        "colab": {
          "base_uri": "https://localhost:8080/"
        },
        "collapsed": true,
        "id": "nCmymZA4rW0i",
        "outputId": "5c7fd5d1-b0f6-473f-d410-f16d56b43bfb"
      },
      "execution_count": 3,
      "outputs": [
        {
          "output_type": "stream",
          "name": "stdout",
          "text": [
            "Requirement already satisfied: neo4j in /usr/local/lib/python3.10/dist-packages (5.25.0)\n",
            "Requirement already satisfied: tiktoken in /usr/local/lib/python3.10/dist-packages (0.8.0)\n",
            "Requirement already satisfied: yfiles_jupyter_graphs in /usr/local/lib/python3.10/dist-packages (1.8.1)\n",
            "Requirement already satisfied: pytz in /usr/local/lib/python3.10/dist-packages (from neo4j) (2024.2)\n",
            "Requirement already satisfied: regex>=2022.1.18 in /usr/local/lib/python3.10/dist-packages (from tiktoken) (2024.9.11)\n",
            "Requirement already satisfied: requests>=2.26.0 in /usr/local/lib/python3.10/dist-packages (from tiktoken) (2.32.3)\n",
            "Requirement already satisfied: ipywidgets>=8.0.0 in /usr/local/lib/python3.10/dist-packages (from yfiles_jupyter_graphs) (8.1.5)\n",
            "Requirement already satisfied: comm>=0.1.3 in /usr/local/lib/python3.10/dist-packages (from ipywidgets>=8.0.0->yfiles_jupyter_graphs) (0.2.2)\n",
            "Requirement already satisfied: ipython>=6.1.0 in /usr/local/lib/python3.10/dist-packages (from ipywidgets>=8.0.0->yfiles_jupyter_graphs) (7.34.0)\n",
            "Requirement already satisfied: traitlets>=4.3.1 in /usr/local/lib/python3.10/dist-packages (from ipywidgets>=8.0.0->yfiles_jupyter_graphs) (5.7.1)\n",
            "Requirement already satisfied: widgetsnbextension~=4.0.12 in /usr/local/lib/python3.10/dist-packages (from ipywidgets>=8.0.0->yfiles_jupyter_graphs) (4.0.13)\n",
            "Requirement already satisfied: jupyterlab-widgets~=3.0.12 in /usr/local/lib/python3.10/dist-packages (from ipywidgets>=8.0.0->yfiles_jupyter_graphs) (3.0.13)\n",
            "Requirement already satisfied: charset-normalizer<4,>=2 in /usr/local/lib/python3.10/dist-packages (from requests>=2.26.0->tiktoken) (3.4.0)\n",
            "Requirement already satisfied: idna<4,>=2.5 in /usr/local/lib/python3.10/dist-packages (from requests>=2.26.0->tiktoken) (3.10)\n",
            "Requirement already satisfied: urllib3<3,>=1.21.1 in /usr/local/lib/python3.10/dist-packages (from requests>=2.26.0->tiktoken) (2.2.3)\n",
            "Requirement already satisfied: certifi>=2017.4.17 in /usr/local/lib/python3.10/dist-packages (from requests>=2.26.0->tiktoken) (2024.8.30)\n",
            "Requirement already satisfied: setuptools>=18.5 in /usr/local/lib/python3.10/dist-packages (from ipython>=6.1.0->ipywidgets>=8.0.0->yfiles_jupyter_graphs) (75.1.0)\n",
            "Requirement already satisfied: jedi>=0.16 in /usr/local/lib/python3.10/dist-packages (from ipython>=6.1.0->ipywidgets>=8.0.0->yfiles_jupyter_graphs) (0.19.1)\n",
            "Requirement already satisfied: decorator in /usr/local/lib/python3.10/dist-packages (from ipython>=6.1.0->ipywidgets>=8.0.0->yfiles_jupyter_graphs) (4.4.2)\n",
            "Requirement already satisfied: pickleshare in /usr/local/lib/python3.10/dist-packages (from ipython>=6.1.0->ipywidgets>=8.0.0->yfiles_jupyter_graphs) (0.7.5)\n",
            "Requirement already satisfied: prompt-toolkit!=3.0.0,!=3.0.1,<3.1.0,>=2.0.0 in /usr/local/lib/python3.10/dist-packages (from ipython>=6.1.0->ipywidgets>=8.0.0->yfiles_jupyter_graphs) (3.0.48)\n",
            "Requirement already satisfied: pygments in /usr/local/lib/python3.10/dist-packages (from ipython>=6.1.0->ipywidgets>=8.0.0->yfiles_jupyter_graphs) (2.18.0)\n",
            "Requirement already satisfied: backcall in /usr/local/lib/python3.10/dist-packages (from ipython>=6.1.0->ipywidgets>=8.0.0->yfiles_jupyter_graphs) (0.2.0)\n",
            "Requirement already satisfied: matplotlib-inline in /usr/local/lib/python3.10/dist-packages (from ipython>=6.1.0->ipywidgets>=8.0.0->yfiles_jupyter_graphs) (0.1.7)\n",
            "Requirement already satisfied: pexpect>4.3 in /usr/local/lib/python3.10/dist-packages (from ipython>=6.1.0->ipywidgets>=8.0.0->yfiles_jupyter_graphs) (4.9.0)\n",
            "Requirement already satisfied: parso<0.9.0,>=0.8.3 in /usr/local/lib/python3.10/dist-packages (from jedi>=0.16->ipython>=6.1.0->ipywidgets>=8.0.0->yfiles_jupyter_graphs) (0.8.4)\n",
            "Requirement already satisfied: ptyprocess>=0.5 in /usr/local/lib/python3.10/dist-packages (from pexpect>4.3->ipython>=6.1.0->ipywidgets>=8.0.0->yfiles_jupyter_graphs) (0.7.0)\n",
            "Requirement already satisfied: wcwidth in /usr/local/lib/python3.10/dist-packages (from prompt-toolkit!=3.0.0,!=3.0.1,<3.1.0,>=2.0.0->ipython>=6.1.0->ipywidgets>=8.0.0->yfiles_jupyter_graphs) (0.2.13)\n"
          ]
        }
      ]
    },
    {
      "cell_type": "code",
      "source": [
        "from langchain_community.graphs import Neo4jGraph"
      ],
      "metadata": {
        "id": "tZazH4MEoH7t"
      },
      "execution_count": 4,
      "outputs": []
    },
    {
      "cell_type": "code",
      "source": [
        "graph = Neo4jGraph(\n",
        "    url=NEO4J_URI, username=NEO4J_USERNAME, password=NEO4J_PASSWORD\n",
        ")\n"
      ],
      "metadata": {
        "id": "Rs1qLhOIpC6s"
      },
      "execution_count": 5,
      "outputs": []
    },
    {
      "cell_type": "code",
      "source": [
        "pip install wikipedia"
      ],
      "metadata": {
        "colab": {
          "base_uri": "https://localhost:8080/"
        },
        "id": "5g6lxTIKpxX-",
        "outputId": "5c8f3a9e-c0c1-49fc-cc5c-f918be20eb52"
      },
      "execution_count": 6,
      "outputs": [
        {
          "output_type": "stream",
          "name": "stdout",
          "text": [
            "Requirement already satisfied: wikipedia in /usr/local/lib/python3.10/dist-packages (1.4.0)\n",
            "Requirement already satisfied: beautifulsoup4 in /usr/local/lib/python3.10/dist-packages (from wikipedia) (4.12.3)\n",
            "Requirement already satisfied: requests<3.0.0,>=2.0.0 in /usr/local/lib/python3.10/dist-packages (from wikipedia) (2.32.3)\n",
            "Requirement already satisfied: charset-normalizer<4,>=2 in /usr/local/lib/python3.10/dist-packages (from requests<3.0.0,>=2.0.0->wikipedia) (3.4.0)\n",
            "Requirement already satisfied: idna<4,>=2.5 in /usr/local/lib/python3.10/dist-packages (from requests<3.0.0,>=2.0.0->wikipedia) (3.10)\n",
            "Requirement already satisfied: urllib3<3,>=1.21.1 in /usr/local/lib/python3.10/dist-packages (from requests<3.0.0,>=2.0.0->wikipedia) (2.2.3)\n",
            "Requirement already satisfied: certifi>=2017.4.17 in /usr/local/lib/python3.10/dist-packages (from requests<3.0.0,>=2.0.0->wikipedia) (2024.8.30)\n",
            "Requirement already satisfied: soupsieve>1.2 in /usr/local/lib/python3.10/dist-packages (from beautifulsoup4->wikipedia) (2.6)\n"
          ]
        }
      ]
    },
    {
      "cell_type": "code",
      "source": [
        "# collecting the data from a wikipedia page\n",
        "\n",
        "from langchain.document_loaders import WikipediaLoader\n",
        "raw_data =  WikipediaLoader(query=\"Elizabeth I\").load()"
      ],
      "metadata": {
        "colab": {
          "base_uri": "https://localhost:8080/"
        },
        "id": "DjBj_ujQpJvA",
        "outputId": "cf56ad7d-c3ee-42aa-d8c2-0e370d0c21b1"
      },
      "execution_count": 7,
      "outputs": [
        {
          "output_type": "stream",
          "name": "stderr",
          "text": [
            "/usr/local/lib/python3.10/dist-packages/wikipedia/wikipedia.py:389: GuessedAtParserWarning: No parser was explicitly specified, so I'm using the best available HTML parser for this system (\"lxml\"). This usually isn't a problem, but if you run this code on another system, or in a different virtual environment, it may use a different parser and behave differently.\n",
            "\n",
            "The code that caused this warning is on line 389 of the file /usr/local/lib/python3.10/dist-packages/wikipedia/wikipedia.py. To get rid of this warning, pass the additional argument 'features=\"lxml\"' to the BeautifulSoup constructor.\n",
            "\n",
            "  lis = BeautifulSoup(html).find_all('li')\n"
          ]
        }
      ]
    },
    {
      "cell_type": "code",
      "source": [
        "# splitting the data into chunks\n",
        "\n",
        "from langchain.text_splitter import TokenTextSplitter\n",
        "text_splitter = TokenTextSplitter(chunk_size=512, chunk_overlap=24)\n",
        "docs = text_splitter.split_documents(raw_data[:3])"
      ],
      "metadata": {
        "id": "UxKoFWUNpeoG"
      },
      "execution_count": 8,
      "outputs": []
    },
    {
      "cell_type": "markdown",
      "source": [
        "Absolutely! Let's dive into the world of NoSQL databases. Unlike traditional relational databases (like SQL) that organize data into tables with rows and columns, NoSQL databases offer diverse ways to store and manage data. Here's a breakdown of some popular ones:\n",
        "\n",
        "**1. MongoDB**\n",
        "\n",
        "* **Type:** Document-oriented\n",
        "* **Data Format:**  MongoDB stores data in flexible, JSON-like documents called BSON (Binary JSON).  Each document can have a different structure, making it ideal for semi-structured data.\n",
        "* **Example:**\n",
        "   ```json\n",
        "   {\n",
        "     \"name\": \"Alice\",\n",
        "     \"age\": 30,\n",
        "     \"address\": {\n",
        "       \"street\": \"123 Main St\",\n",
        "       \"city\": \"Anytown\"\n",
        "     },\n",
        "     \"hobbies\": [\"reading\", \"coding\"]\n",
        "   }\n",
        "   ```\n",
        "* **Use Cases:** Content management systems, e-commerce platforms, mobile apps\n",
        "\n",
        "**2. Redis**\n",
        "\n",
        "* **Type:** Key-value store\n",
        "* **Data Format:** Redis stores data as key-value pairs. The key is a unique identifier, and the value can be a string, list, set, hash, or other data structures.\n",
        "* **Example:**\n",
        "   ```\n",
        "   key: \"username:123\"\n",
        "   value: \"JohnDoe\"\n",
        "   ```\n",
        "* **Use Cases:** Caching, session management, real-time analytics, leaderboards\n",
        "\n",
        "**3. Neo4j**\n",
        "\n",
        "* **Type:** Graph database\n",
        "* **Data Format:** Neo4j stores data as nodes and relationships. Nodes represent entities (e.g., people, products), and relationships define connections between them.\n",
        "* **Example:**\n",
        "   * Node 1: `(user:Alice {name: \"Alice\"})`\n",
        "   * Node 2: `(product:Laptop {name: \"Awesome Laptop\"})`\n",
        "   * Relationship: `(user:Alice)-[:PURCHASED]->(product:Laptop)`\n",
        "* **Use Cases:** Social networks, recommendation engines, knowledge graphs, fraud detection\n",
        "\n",
        "**4. Cassandra**\n",
        "\n",
        "* **Type:** Wide-column store\n",
        "* **Data Format:**  Cassandra organizes data into tables with rows and columns, but columns are grouped into column families.  It's highly scalable and fault-tolerant.\n",
        "* **Example:** (simplified)\n",
        "   ```\n",
        "   Column Family: user_info\n",
        "     Row Key: Alice\n",
        "       Column: name  Value: Alice\n",
        "       Column: age   Value: 30\n",
        "       Column: city  Value: Anytown\n",
        "   ```\n",
        "* **Use Cases:** Time series data, logging, IoT applications\n",
        "\n",
        "**5. Amazon DynamoDB**\n",
        "\n",
        "* **Type:** Key-value and document store\n",
        "* **Data Format:** DynamoDB supports both key-value and document data models. It's a fully managed, serverless database offering high scalability and low latency.\n",
        "* **Example:** (document format)\n",
        "   ```json\n",
        "   {\n",
        "     \"userId\": \"123\",\n",
        "     \"username\": \"Bob\",\n",
        "     \"email\": \"bob@example.com\"\n",
        "   }\n",
        "   ```\n",
        "* **Use Cases:** Mobile gaming, ad tech, serverless applications\n",
        "\n",
        "**Key Considerations When Choosing a NoSQL Database**\n",
        "\n",
        "* **Data model:** What is the structure of your data?\n",
        "* **Scalability:** How much data will you store, and how fast will it grow?\n",
        "* **Consistency:** How important is it for all users to see the same data at the same time?\n",
        "* **Query patterns:** What types of queries will you be running?\n",
        "* **Cost:** What is your budget for database infrastructure?\n"
      ],
      "metadata": {
        "id": "_i6FbPdMs7mU"
      }
    },
    {
      "cell_type": "markdown",
      "source": [
        "# Here's how you can add the social network data to Neo4j and then query it using Cypher:\n",
        "\n",
        "**1. Accessing Neo4j**\n",
        "\n",
        "* **Neo4j Desktop:** The easiest way to get started is by downloading Neo4j Desktop. It provides a user-friendly interface for managing your databases.\n",
        "* **Neo4j Browser:** Once you have Neo4j Desktop running, create a new database and open it in the Neo4j Browser. This is where you'll write and execute Cypher queries.\n",
        "\n",
        "**2. Adding the Data**\n",
        "\n",
        "Paste the following Cypher code into the Neo4j Browser and execute it:\n",
        "\n",
        "```cypher\n",
        "CREATE (alice:Person {name: \"Alice\"})\n",
        "CREATE (bob:Person {name: \"Bob\"})\n",
        "CREATE (charlie:Person {name: \"Charlie\"})\n",
        "\n",
        "CREATE (alice)-[:FRIEND_OF]->(bob)\n",
        "CREATE (bob)-[:FRIEND_OF]->(charlie);\n",
        "```\n",
        "\n",
        "This code does the following:\n",
        "\n",
        "* **`CREATE`:**  This clause creates nodes and relationships.\n",
        "* **`(alice:Person {name: \"Alice\"})`:** Creates a node with the label \"Person\" and a property \"name\" set to \"Alice\".\n",
        "* **`-[:FRIEND_OF]->`:**  Creates a \"FRIEND_OF\" relationship between the nodes.\n",
        "\n",
        "**3. Querying the Data**\n",
        "\n",
        "Now you can run queries against your newly created graph. Here are a few examples:\n",
        "\n",
        "* **Find all people in the database:**\n",
        "   ```cypher\n",
        "   MATCH (p:Person)\n",
        "   RETURN p\n",
        "   ```\n",
        "\n",
        "* **Find all of Alice's friends:**\n",
        "   ```cypher\n",
        "   MATCH (alice:Person {name: \"Alice\"})-[:FRIEND_OF]->(friend)\n",
        "   RETURN friend.name\n",
        "   ```\n",
        "\n",
        "* **Find all friends of friends of Alice (friends of a friend):**\n",
        "   ```cypher\n",
        "   MATCH (alice:Person {name: \"Alice\"})-[:FRIEND_OF]->(friend1)-[:FRIEND_OF]->(friend2)\n",
        "   RETURN friend2.name\n",
        "   ```\n",
        "\n",
        "**Exploring the Graph**\n",
        "\n",
        "After running a query, the Neo4j Browser will visually display the results as a graph, making it easy to understand the connections in your data.\n",
        "\n",
        "**Important Notes:**\n",
        "\n",
        "* **Case-sensitivity:** Cypher is case-sensitive, so \"Person\" and \"person\" are different.\n",
        "* **Node labels:** Using labels like `:Person` helps organize and query your data efficiently.\n",
        "* **Relationship direction:**  Relationships have a direction (e.g., Alice is friends with Bob, but Bob might not be friends with Alice in this example).\n",
        "\n",
        "This hands-on exercise gives you a basic understanding of how to add data to Neo4j and query it using Cypher. Feel free to experiment with different queries and explore the power of graph databases!\n"
      ],
      "metadata": {
        "id": "V_okFxcotujD"
      }
    },
    {
      "cell_type": "code",
      "source": [
        "from langchain_openai import ChatOpenAI\n",
        "llm = ChatOpenAI(model_name=\"gpt-3.5-turbo-0125\", temperature=0, api_key= OPENAI_API_KEY )"
      ],
      "metadata": {
        "id": "nXWPI-HJsb5z"
      },
      "execution_count": 10,
      "outputs": []
    },
    {
      "cell_type": "code",
      "source": [
        "from langchain_experimental.graph_transformers import LLMGraphTransformer\n",
        "llm_graph_transformer = LLMGraphTransformer(llm=llm)\n",
        "\n",
        "#LLMGraphTransformer helps us extract valuable knowledge from this text by turning\n",
        "#it into a structured graph. This graph reveals the hidden connections between\n",
        "#different concepts and entities, making it easier to understand complex\n",
        "#information and discover insights that would be difficult to find by simply\n",
        "#reading the text."
      ],
      "metadata": {
        "id": "JpT_jhQ8xxdp"
      },
      "execution_count": 11,
      "outputs": []
    },
    {
      "cell_type": "code",
      "source": [
        "graph_documents = llm_graph_transformer.convert_to_graph_documents(docs)"
      ],
      "metadata": {
        "id": "flDtOny2yGEO"
      },
      "execution_count": 12,
      "outputs": []
    },
    {
      "cell_type": "code",
      "source": [
        "graph_documents"
      ],
      "metadata": {
        "colab": {
          "base_uri": "https://localhost:8080/"
        },
        "id": "z6ukMOm33Nbw",
        "outputId": "ada33044-c61b-4adb-d63c-86a857340534"
      },
      "execution_count": 13,
      "outputs": [
        {
          "output_type": "execute_result",
          "data": {
            "text/plain": [
              "[GraphDocument(nodes=[Node(id='Elizabeth I', type='Person', properties={}), Node(id='England', type='Country', properties={}), Node(id='Ireland', type='Country', properties={}), Node(id='House Of Tudor', type='Monarchy', properties={}), Node(id='Henry Viii', type='Person', properties={}), Node(id='Anne Boleyn', type='Person', properties={}), Node(id='Edward Vi', type='Person', properties={}), Node(id='Lady Jane Grey', type='Person', properties={}), Node(id='Mary', type='Person', properties={}), Node(id='William Cecil', type='Person', properties={}), Node(id='Baron Burghley', type='Person', properties={}), Node(id='James Vi Of Scotland', type='Person', properties={}), Node(id='Mary, Queen Of Scots', type='Person', properties={}), Node(id='France', type='Country', properties={}), Node(id='Spain', type='Country', properties={}), Node(id='Sir Francis Walsingham', type='Person', properties={})], relationships=[Relationship(source=Node(id='Elizabeth I', type='Person', properties={}), target=Node(id='England', type='Country', properties={}), type='RULED', properties={}), Relationship(source=Node(id='Elizabeth I', type='Person', properties={}), target=Node(id='Ireland', type='Country', properties={}), type='RULED', properties={}), Relationship(source=Node(id='Elizabeth I', type='Person', properties={}), target=Node(id='House Of Tudor', type='Monarchy', properties={}), type='LAST_MONARCH', properties={}), Relationship(source=Node(id='Elizabeth I', type='Person', properties={}), target=Node(id='Henry Viii', type='Person', properties={}), type='CHILD_OF', properties={}), Relationship(source=Node(id='Elizabeth I', type='Person', properties={}), target=Node(id='Anne Boleyn', type='Person', properties={}), type='CHILD_OF', properties={}), Relationship(source=Node(id='Elizabeth I', type='Person', properties={}), target=Node(id='Edward Vi', type='Person', properties={}), type='HALF-SISTER_OF', properties={}), Relationship(source=Node(id='Elizabeth I', type='Person', properties={}), target=Node(id='Lady Jane Grey', type='Person', properties={}), type='IGNORED_CLAIMS_OF', properties={}), Relationship(source=Node(id='Elizabeth I', type='Person', properties={}), target=Node(id='Mary', type='Person', properties={}), type='HALF-SISTER_OF', properties={}), Relationship(source=Node(id='Elizabeth I', type='Person', properties={}), target=Node(id='William Cecil', type='Person', properties={}), type='TRUSTED_ADVISER', properties={}), Relationship(source=Node(id='Elizabeth I', type='Person', properties={}), target=Node(id='Baron Burghley', type='Person', properties={}), type='CREATED_BY', properties={}), Relationship(source=Node(id='Elizabeth I', type='Person', properties={}), target=Node(id='James Vi Of Scotland', type='Person', properties={}), type='SUCCEEDED_BY', properties={}), Relationship(source=Node(id='Elizabeth I', type='Person', properties={}), target=Node(id='Mary, Queen Of Scots', type='Person', properties={}), type='MOTHER_OF', properties={}), Relationship(source=Node(id='Elizabeth I', type='Person', properties={}), target=Node(id='France', type='Country', properties={}), type='FOREIGN_AFFAIRS', properties={}), Relationship(source=Node(id='Elizabeth I', type='Person', properties={}), target=Node(id='Spain', type='Country', properties={}), type='FOREIGN_AFFAIRS', properties={}), Relationship(source=Node(id='Elizabeth I', type='Person', properties={}), target=Node(id='Sir Francis Walsingham', type='Person', properties={}), type='SECRET_SERVICE', properties={})], source=Document(metadata={'title': 'Elizabeth I', 'summary': 'Elizabeth I (7 September 1533 – 24 March 1603) was Queen of England and Ireland from 17 November 1558 until her death in 1603. She was the last monarch of the House of Tudor.\\nElizabeth was the only surviving child of Henry VIII and his second wife, Anne Boleyn. When Elizabeth was two years old, her parents\\' marriage was annulled, her mother was executed, and Elizabeth was declared illegitimate. Henry restored her to the line of succession when she was 10, via the Third Succession Act 1543. After Henry\\'s death in 1547, Elizabeth\\'s younger half-brother Edward VI ruled until his own death in 1553, bequeathing the crown to a Protestant cousin, Lady Jane Grey, and ignoring the claims of his two half-sisters, the Catholic Mary and the younger Elizabeth, in spite of statutes to the contrary. Edward\\'s will was set aside within weeks of his death and Mary became queen, deposing and executing Jane. During Mary\\'s reign, Elizabeth was imprisoned for nearly a year on suspicion of supporting Protestant rebels.\\nUpon her half-sister\\'s death in 1558, Elizabeth succeeded to the throne and set out to rule by good counsel. She depended heavily on a group of trusted advisers led by William Cecil, whom she created Baron Burghley. One of her first actions as queen was the establishment of an English Protestant church, of which she became the supreme governor. This era, later named the Elizabethan Religious Settlement, would evolve into the Church of England. It was expected that Elizabeth would marry and produce an heir; however, despite numerous courtships, she never did. Because of this she is sometimes referred to as the \"Virgin Queen\". She was eventually succeeded by her first cousin twice removed, James VI of Scotland, the son of Mary, Queen of Scots.\\nIn government, Elizabeth was more moderate than her father and siblings had been. One of her mottoes was video et taceo (\"I see and keep silent\"). In religion, she was relatively tolerant and avoided systematic persecution. After the pope declared her illegitimate in 1570, which in theory released English Catholics from allegiance to her, several conspiracies threatened her life, all of which were defeated with the help of her ministers\\' secret service, run by Sir Francis Walsingham. Elizabeth was cautious in foreign affairs, manoeuvring between the major powers of France and Spain. She half-heartedly supported a number of ineffective, poorly resourced military campaigns in the Netherlands, France, and Ireland. By the mid-1580s, England could no longer avoid war with Spain.\\nAs she grew older, Elizabeth became celebrated for her virginity. A cult of personality grew around her which was celebrated in the portraits, pageants, and literature of the day. Elizabeth\\'s reign became known as the Elizabethan era. The period is famous for the flourishing of English drama, led by playwrights such as William Shakespeare and Christopher Marlowe, the prowess of English maritime adventurers, such as Francis Drake and Walter Raleigh, and for the defeat of the Spanish Armada. Some historians depict Elizabeth as a short-tempered, sometimes indecisive ruler, who enjoyed more than her fair share of luck. Towards the end of her reign, a series of economic and military problems weakened her popularity. Elizabeth is acknowledged as a charismatic performer (\"Gloriana\") and a dogged survivor (\"Good Queen Bess\") in an era when government was ramshackle and limited, and when monarchs in neighbouring countries faced internal problems that jeopardised their thrones. After the short, disastrous reigns of her half-siblings, her 44 years on the throne provided welcome stability for the kingdom and helped to forge a sense of national identity.\\n\\n', 'source': 'https://en.wikipedia.org/wiki/Elizabeth_I'}, page_content='Elizabeth I (7 September 1533 – 24 March 1603) was Queen of England and Ireland from 17 November 1558 until her death in 1603. She was the last monarch of the House of Tudor.\\nElizabeth was the only surviving child of Henry VIII and his second wife, Anne Boleyn. When Elizabeth was two years old, her parents\\' marriage was annulled, her mother was executed, and Elizabeth was declared illegitimate. Henry restored her to the line of succession when she was 10, via the Third Succession Act 1543. After Henry\\'s death in 1547, Elizabeth\\'s younger half-brother Edward VI ruled until his own death in 1553, bequeathing the crown to a Protestant cousin, Lady Jane Grey, and ignoring the claims of his two half-sisters, the Catholic Mary and the younger Elizabeth, in spite of statutes to the contrary. Edward\\'s will was set aside within weeks of his death and Mary became queen, deposing and executing Jane. During Mary\\'s reign, Elizabeth was imprisoned for nearly a year on suspicion of supporting Protestant rebels.\\nUpon her half-sister\\'s death in 1558, Elizabeth succeeded to the throne and set out to rule by good counsel. She depended heavily on a group of trusted advisers led by William Cecil, whom she created Baron Burghley. One of her first actions as queen was the establishment of an English Protestant church, of which she became the supreme governor. This era, later named the Elizabethan Religious Settlement, would evolve into the Church of England. It was expected that Elizabeth would marry and produce an heir; however, despite numerous courtships, she never did. Because of this she is sometimes referred to as the \"Virgin Queen\". She was eventually succeeded by her first cousin twice removed, James VI of Scotland, the son of Mary, Queen of Scots.\\nIn government, Elizabeth was more moderate than her father and siblings had been. One of her mottoes was video et taceo (\"I see and keep silent\"). In religion, she was relatively tolerant and avoided systematic persecution. After the pope declared her illegitimate in 1570, which in theory released English Catholics from allegiance to her, several conspiracies threatened her life, all of which were defeated with the help of her ministers\\' secret service, run by Sir Francis Walsingham. Elizabeth was cautious in foreign affairs, manoeuvring between the major powers of France and Spain. She half-heartedly supported a number of ineffective, poorly resourced military campaigns in the Netherlands, France,')),\n",
              " GraphDocument(nodes=[Node(id='Elizabeth', type='Person', properties={}), Node(id='Spain', type='Country', properties={}), Node(id='Netherlands', type='Country', properties={}), Node(id='France', type='Country', properties={}), Node(id='Ireland', type='Country', properties={}), Node(id='William Shakespeare', type='Playwright', properties={}), Node(id='Christopher Marlowe', type='Playwright', properties={}), Node(id='Francis Drake', type='Maritime adventurer', properties={}), Node(id='Walter Raleigh', type='Maritime adventurer', properties={}), Node(id='Spanish Armada', type='Event', properties={})], relationships=[Relationship(source=Node(id='Elizabeth', type='Person', properties={}), target=Node(id='Spain', type='Country', properties={}), type='WAR', properties={}), Relationship(source=Node(id='Elizabeth', type='Person', properties={}), target=Node(id='Netherlands', type='Country', properties={}), type='CAMPAIGN', properties={}), Relationship(source=Node(id='Elizabeth', type='Person', properties={}), target=Node(id='France', type='Country', properties={}), type='CAMPAIGN', properties={}), Relationship(source=Node(id='Elizabeth', type='Person', properties={}), target=Node(id='Ireland', type='Country', properties={}), type='CAMPAIGN', properties={}), Relationship(source=Node(id='Elizabeth', type='Person', properties={}), target=Node(id='William Shakespeare', type='Playwright', properties={}), type='LEAD', properties={}), Relationship(source=Node(id='Elizabeth', type='Person', properties={}), target=Node(id='Christopher Marlowe', type='Playwright', properties={}), type='LEAD', properties={}), Relationship(source=Node(id='Elizabeth', type='Person', properties={}), target=Node(id='Francis Drake', type='Maritime adventurer', properties={}), type='LEAD', properties={}), Relationship(source=Node(id='Elizabeth', type='Person', properties={}), target=Node(id='Walter Raleigh', type='Maritime adventurer', properties={}), type='LEAD', properties={}), Relationship(source=Node(id='Elizabeth', type='Person', properties={}), target=Node(id='Spanish Armada', type='Event', properties={}), type='DEFEAT', properties={})], source=Document(metadata={'title': 'Elizabeth I', 'summary': 'Elizabeth I (7 September 1533 – 24 March 1603) was Queen of England and Ireland from 17 November 1558 until her death in 1603. She was the last monarch of the House of Tudor.\\nElizabeth was the only surviving child of Henry VIII and his second wife, Anne Boleyn. When Elizabeth was two years old, her parents\\' marriage was annulled, her mother was executed, and Elizabeth was declared illegitimate. Henry restored her to the line of succession when she was 10, via the Third Succession Act 1543. After Henry\\'s death in 1547, Elizabeth\\'s younger half-brother Edward VI ruled until his own death in 1553, bequeathing the crown to a Protestant cousin, Lady Jane Grey, and ignoring the claims of his two half-sisters, the Catholic Mary and the younger Elizabeth, in spite of statutes to the contrary. Edward\\'s will was set aside within weeks of his death and Mary became queen, deposing and executing Jane. During Mary\\'s reign, Elizabeth was imprisoned for nearly a year on suspicion of supporting Protestant rebels.\\nUpon her half-sister\\'s death in 1558, Elizabeth succeeded to the throne and set out to rule by good counsel. She depended heavily on a group of trusted advisers led by William Cecil, whom she created Baron Burghley. One of her first actions as queen was the establishment of an English Protestant church, of which she became the supreme governor. This era, later named the Elizabethan Religious Settlement, would evolve into the Church of England. It was expected that Elizabeth would marry and produce an heir; however, despite numerous courtships, she never did. Because of this she is sometimes referred to as the \"Virgin Queen\". She was eventually succeeded by her first cousin twice removed, James VI of Scotland, the son of Mary, Queen of Scots.\\nIn government, Elizabeth was more moderate than her father and siblings had been. One of her mottoes was video et taceo (\"I see and keep silent\"). In religion, she was relatively tolerant and avoided systematic persecution. After the pope declared her illegitimate in 1570, which in theory released English Catholics from allegiance to her, several conspiracies threatened her life, all of which were defeated with the help of her ministers\\' secret service, run by Sir Francis Walsingham. Elizabeth was cautious in foreign affairs, manoeuvring between the major powers of France and Spain. She half-heartedly supported a number of ineffective, poorly resourced military campaigns in the Netherlands, France, and Ireland. By the mid-1580s, England could no longer avoid war with Spain.\\nAs she grew older, Elizabeth became celebrated for her virginity. A cult of personality grew around her which was celebrated in the portraits, pageants, and literature of the day. Elizabeth\\'s reign became known as the Elizabethan era. The period is famous for the flourishing of English drama, led by playwrights such as William Shakespeare and Christopher Marlowe, the prowess of English maritime adventurers, such as Francis Drake and Walter Raleigh, and for the defeat of the Spanish Armada. Some historians depict Elizabeth as a short-tempered, sometimes indecisive ruler, who enjoyed more than her fair share of luck. Towards the end of her reign, a series of economic and military problems weakened her popularity. Elizabeth is acknowledged as a charismatic performer (\"Gloriana\") and a dogged survivor (\"Good Queen Bess\") in an era when government was ramshackle and limited, and when monarchs in neighbouring countries faced internal problems that jeopardised their thrones. After the short, disastrous reigns of her half-siblings, her 44 years on the throne provided welcome stability for the kingdom and helped to forge a sense of national identity.\\n\\n', 'source': 'https://en.wikipedia.org/wiki/Elizabeth_I'}, page_content=' and Spain. She half-heartedly supported a number of ineffective, poorly resourced military campaigns in the Netherlands, France, and Ireland. By the mid-1580s, England could no longer avoid war with Spain.\\nAs she grew older, Elizabeth became celebrated for her virginity. A cult of personality grew around her which was celebrated in the portraits, pageants, and literature of the day. Elizabeth\\'s reign became known as the Elizabethan era. The period is famous for the flourishing of English drama, led by playwrights such as William Shakespeare and Christopher Marlowe, the prowess of English maritime adventurers, such as Francis Drake and Walter Raleigh, and for the defeat of the Spanish Armada. Some historians depict Elizabeth as a short-tempered, sometimes indecisive ruler, who enjoyed more than her fair share of luck. Towards the end of her reign, a series of economic and military problems weakened her popularity. Elizabeth is acknowledged as a charismatic performer (\"Gloriana\") and a dogged survivor (\"Good Queen Bess\") in an era when government was ramshackle and limited, and when monarchs in neighbouring countries faced internal problems that jeopardised their thrones. After the short, disastrous reigns of her half-siblings, her 44 years on the throne provided welcome stability for the kingdom and helped to forge a sense of national identity.\\n\\n\\n== Early life ==\\n\\nElizabeth was born at Greenwich Palace on 7 September 1533 and was named after her grandmothers, Elizabeth of York and Lady Elizabeth Howard. She was the second child of Henry VIII of England born in wedlock to survive infancy. Her mother was Henry\\'s second wife, Anne Bo')),\n",
              " GraphDocument(nodes=[Node(id='Elizabeth Petrovna', type='Empress', properties={}), Node(id='Russia', type='Country', properties={}), Node(id='Peter The Great', type='Tsar', properties={}), Node(id='Alexei', type='Person', properties={}), Node(id='Catherine I Of Russia', type='Empress', properties={}), Node(id='Peter Ii', type='Person', properties={}), Node(id='Anna', type='Empress', properties={}), Node(id='Ivan Vi', type='Person', properties={}), Node(id='Peter Iii', type='Person', properties={}), Node(id='Mikhail Lomonosov', type='Person', properties={}), Node(id='Ivan Shuvalov', type='Person', properties={}), Node(id='Bartolomeo Rastrelli', type='Architect', properties={}), Node(id='Aleksey Bestuzhev-Ryumin', type='Diplomat', properties={}), Node(id='Frederick The Great', type='Person', properties={})], relationships=[Relationship(source=Node(id='Elizabeth Petrovna', type='Empress', properties={}), target=Node(id='Russia', type='Country', properties={}), type='RULER', properties={}), Relationship(source=Node(id='Elizabeth Petrovna', type='Empress', properties={}), target=Node(id='Peter The Great', type='Tsar', properties={}), type='DAUGHTER', properties={}), Relationship(source=Node(id='Elizabeth Petrovna', type='Empress', properties={}), target=Node(id='Alexei', type='Person', properties={}), type='SIBLING', properties={}), Relationship(source=Node(id='Elizabeth Petrovna', type='Empress', properties={}), target=Node(id='Catherine I Of Russia', type='Empress', properties={}), type='MOTHER', properties={}), Relationship(source=Node(id='Elizabeth Petrovna', type='Empress', properties={}), target=Node(id='Peter Ii', type='Person', properties={}), type='NEPHEW', properties={}), Relationship(source=Node(id='Elizabeth Petrovna', type='Empress', properties={}), target=Node(id='Anna', type='Empress', properties={}), type='COUSIN', properties={}), Relationship(source=Node(id='Elizabeth Petrovna', type='Empress', properties={}), target=Node(id='Ivan Vi', type='Person', properties={}), type='GREAT-NEPHEW', properties={}), Relationship(source=Node(id='Elizabeth Petrovna', type='Empress', properties={}), target=Node(id='Peter Iii', type='Person', properties={}), type='NEPHEW', properties={}), Relationship(source=Node(id='Elizabeth Petrovna', type='Empress', properties={}), target=Node(id='Mikhail Lomonosov', type='Person', properties={}), type='SUPPORTED', properties={}), Relationship(source=Node(id='Elizabeth Petrovna', type='Empress', properties={}), target=Node(id='Ivan Shuvalov', type='Person', properties={}), type='ENCOURAGED', properties={}), Relationship(source=Node(id='Elizabeth Petrovna', type='Empress', properties={}), target=Node(id='Bartolomeo Rastrelli', type='Architect', properties={}), type='FAVORED', properties={}), Relationship(source=Node(id='Elizabeth Petrovna', type='Empress', properties={}), target=Node(id='Aleksey Bestuzhev-Ryumin', type='Diplomat', properties={}), type='COLLABORATED', properties={}), Relationship(source=Node(id='Elizabeth Petrovna', type='Empress', properties={}), target=Node(id='Frederick The Great', type='Person', properties={}), type='OPPONENT', properties={})], source=Document(metadata={'title': 'Elizabeth of Russia', 'summary': \"Elizabeth or Elizaveta Petrovna (Russian: Елизаве́та Петро́вна; 29 December [O.S. 18 December] 1709 – 5 January [O.S. 25 December] 1762) was Empress of Russia from 1741 until her death in 1762. She remains one of the most popular Russian monarchs because of her decision not to execute a single person during her reign, her numerous construction projects, and her strong opposition to Prussian policies.\\nThe second-eldest daughter of Tsar Peter the Great (r.\\u20091682–1725), Elizabeth lived through the confused successions of her father's descendants following her half-brother Alexei's death in 1718. The throne first passed to her mother Catherine I of Russia (r.\\u20091725–1727), then to her nephew Peter II, who died in 1730 and was succeeded by Elizabeth's first cousin Anna (r.\\u20091730–1740). After the brief rule of Anna's infant great-nephew, Ivan VI, Elizabeth seized the throne with the military's support and declared her own nephew, the future Peter III, her heir.\\nDuring her reign Elizabeth continued the policies of her father and brought about a remarkable Age of Enlightenment in Russia. Her domestic policies allowed the nobles to gain dominance in local government while shortening their terms of service to the state. She encouraged Mikhail Lomonosov's foundation of the University of Moscow, the highest-ranking Russian educational institution. Her court became one of the most splendid in all Europe, especially regarding architecture: she modernised Russia's roads, encouraged Ivan Shuvalov's foundation of the Imperial Academy of Arts, and financed grandiose Baroque projects of her favourite architect, Bartolomeo Rastrelli, particularly in Peterhof Palace. The Winter Palace and the Smolny Cathedral in Saint Petersburg are among the chief monuments of her reign.\\nElizabeth led the Russian Empire during the two major European conflicts of her time: the War of Austrian Succession (1740–1748) and the Seven Years' War (1756–1763). She and diplomat Aleksey Bestuzhev-Ryumin solved the first event by forming an alliance with Austria and France, but indirectly caused the second. Russian troops enjoyed several victories against Prussia and briefly occupied Berlin, but when Frederick the Great was finally considering surrender in January 1762, the Russian Empress died. She was the last agnatic member of the House of Romanov to reign over the Russian Empire.\\n\\n\", 'source': 'https://en.wikipedia.org/wiki/Elizabeth_of_Russia'}, page_content=\"Elizabeth or Elizaveta Petrovna (Russian: Елизаве́та Петро́вна; 29 December [O.S. 18 December] 1709 – 5 January [O.S. 25 December] 1762) was Empress of Russia from 1741 until her death in 1762. She remains one of the most popular Russian monarchs because of her decision not to execute a single person during her reign, her numerous construction projects, and her strong opposition to Prussian policies.\\nThe second-eldest daughter of Tsar Peter the Great (r.\\u20091682–1725), Elizabeth lived through the confused successions of her father's descendants following her half-brother Alexei's death in 1718. The throne first passed to her mother Catherine I of Russia (r.\\u20091725–1727), then to her nephew Peter II, who died in 1730 and was succeeded by Elizabeth's first cousin Anna (r.\\u20091730–1740). After the brief rule of Anna's infant great-nephew, Ivan VI, Elizabeth seized the throne with the military's support and declared her own nephew, the future Peter III, her heir.\\nDuring her reign Elizabeth continued the policies of her father and brought about a remarkable Age of Enlightenment in Russia. Her domestic policies allowed the nobles to gain dominance in local government while shortening their terms of service to the state. She encouraged Mikhail Lomonosov's foundation of the University of Moscow, the highest-ranking Russian educational institution. Her court became one of the most splendid in all Europe, especially regarding architecture: she modernised Russia's roads, encouraged Ivan Shuvalov's foundation of the Imperial Academy of Arts, and financed grandiose Baroque projects of her favourite architect, Bartolomeo Rastrelli, particularly in Peterhof Palace. The Winter Palace and the Smolny Cathedral in Saint Petersburg are among the chief monuments of her reign.\\nElizabeth led the Russian Empire during the two major European conflicts of her time: the War of Austrian Succession (1740–1748) and the Seven Years' War (1756–1763). She and diplomat Aleksey Bestuzhev-Ryumin solved the first event by forming an alliance with Austria and France, but indirectly caused the second. Russian troops enjoyed several victories against Prussia and briefly occupied Berlin, but when Frederick the Great was finally considering surrender in January\")),\n",
              " GraphDocument(nodes=[Node(id='Elizabeth', type='Person', properties={}), Node(id='Russian Troops', type='Military', properties={}), Node(id='Prussia', type='Country', properties={}), Node(id='Berlin', type='City', properties={}), Node(id='Frederick The Great', type='Person', properties={}), Node(id='Russian Empress', type='Person', properties={}), Node(id='House Of Romanov', type='Royal family', properties={}), Node(id='Peter The Great', type='Person', properties={}), Node(id='Catherine', type='Person', properties={}), Node(id='Samuel Skowroński', type='Person', properties={}), Node(id='Grand Duchy Of Lithuania', type='Country', properties={}), Node(id='Anna', type='Person', properties={}), Node(id='Tsarevna', type='Title', properties={}), Node(id='Alexei Petrovich', type='Person', properties={}), Node(id='Eudoxia Lopukhina', type='Person', properties={})], relationships=[Relationship(source=Node(id='Russian Troops', type='Military', properties={}), target=Node(id='Prussia', type='Country', properties={}), type='VICTORY', properties={}), Relationship(source=Node(id='Russian Troops', type='Military', properties={}), target=Node(id='Berlin', type='City', properties={}), type='OCCUPATION', properties={}), Relationship(source=Node(id='Frederick The Great', type='Person', properties={}), target=Node(id='Prussia', type='Country', properties={}), type='CONSIDERING_SURRENDER', properties={}), Relationship(source=Node(id='Russian Empress', type='Person', properties={}), target=Node(id='Russian Empress', type='Person', properties={}), type='DEATH', properties={}), Relationship(source=Node(id='Russian Empress', type='Person', properties={}), target=Node(id='House Of Romanov', type='Royal family', properties={}), type='LAST_AGNATIC_MEMBER', properties={}), Relationship(source=Node(id='Elizabeth', type='Person', properties={}), target=Node(id='Peter The Great', type='Person', properties={}), type='DAUGHTER', properties={}), Relationship(source=Node(id='Elizabeth', type='Person', properties={}), target=Node(id='Catherine', type='Person', properties={}), type='DAUGHTER', properties={}), Relationship(source=Node(id='Catherine', type='Person', properties={}), target=Node(id='Samuel Skowroński', type='Person', properties={}), type='DAUGHTER_OF', properties={}), Relationship(source=Node(id='Catherine', type='Person', properties={}), target=Node(id='Grand Duchy Of Lithuania', type='Country', properties={}), type='NATIONALITY', properties={}), Relationship(source=Node(id='Peter The Great', type='Person', properties={}), target=Node(id='Catherine', type='Person', properties={}), type='SPOUSE', properties={}), Relationship(source=Node(id='Peter The Great', type='Person', properties={}), target=Node(id='Elizabeth', type='Person', properties={}), type='FATHER', properties={}), Relationship(source=Node(id='Peter The Great', type='Person', properties={}), target=Node(id='Anna', type='Person', properties={}), type='FATHER', properties={}), Relationship(source=Node(id='Peter The Great', type='Person', properties={}), target=Node(id='Tsarevna', type='Title', properties={}), type='GIVEN_TITLE', properties={}), Relationship(source=Node(id='Peter The Great', type='Person', properties={}), target=Node(id='Alexei Petrovich', type='Person', properties={}), type='SON', properties={}), Relationship(source=Node(id='Peter The Great', type='Person', properties={}), target=Node(id='Eudoxia Lopukhina', type='Person', properties={}), type='FIRST_WIFE', properties={})], source=Document(metadata={'title': 'Elizabeth of Russia', 'summary': \"Elizabeth or Elizaveta Petrovna (Russian: Елизаве́та Петро́вна; 29 December [O.S. 18 December] 1709 – 5 January [O.S. 25 December] 1762) was Empress of Russia from 1741 until her death in 1762. She remains one of the most popular Russian monarchs because of her decision not to execute a single person during her reign, her numerous construction projects, and her strong opposition to Prussian policies.\\nThe second-eldest daughter of Tsar Peter the Great (r.\\u20091682–1725), Elizabeth lived through the confused successions of her father's descendants following her half-brother Alexei's death in 1718. The throne first passed to her mother Catherine I of Russia (r.\\u20091725–1727), then to her nephew Peter II, who died in 1730 and was succeeded by Elizabeth's first cousin Anna (r.\\u20091730–1740). After the brief rule of Anna's infant great-nephew, Ivan VI, Elizabeth seized the throne with the military's support and declared her own nephew, the future Peter III, her heir.\\nDuring her reign Elizabeth continued the policies of her father and brought about a remarkable Age of Enlightenment in Russia. Her domestic policies allowed the nobles to gain dominance in local government while shortening their terms of service to the state. She encouraged Mikhail Lomonosov's foundation of the University of Moscow, the highest-ranking Russian educational institution. Her court became one of the most splendid in all Europe, especially regarding architecture: she modernised Russia's roads, encouraged Ivan Shuvalov's foundation of the Imperial Academy of Arts, and financed grandiose Baroque projects of her favourite architect, Bartolomeo Rastrelli, particularly in Peterhof Palace. The Winter Palace and the Smolny Cathedral in Saint Petersburg are among the chief monuments of her reign.\\nElizabeth led the Russian Empire during the two major European conflicts of her time: the War of Austrian Succession (1740–1748) and the Seven Years' War (1756–1763). She and diplomat Aleksey Bestuzhev-Ryumin solved the first event by forming an alliance with Austria and France, but indirectly caused the second. Russian troops enjoyed several victories against Prussia and briefly occupied Berlin, but when Frederick the Great was finally considering surrender in January 1762, the Russian Empress died. She was the last agnatic member of the House of Romanov to reign over the Russian Empire.\\n\\n\", 'source': 'https://en.wikipedia.org/wiki/Elizabeth_of_Russia'}, page_content=' Russian troops enjoyed several victories against Prussia and briefly occupied Berlin, but when Frederick the Great was finally considering surrender in January 1762, the Russian Empress died. She was the last agnatic member of the House of Romanov to reign over the Russian Empire.\\n\\n\\n== Early life ==\\n\\n\\n=== Childhood and teenage years ===\\n\\nElizabeth was born at Kolomenskoye, near Moscow, Russia, on 18 December 1709 (O.S.). Her parents were Peter the Great, Tsar of Russia and Catherine. Catherine was the daughter of Samuel Skowroński, a subject of Grand Duchy of Lithuania. Although no documentary record exists, her parents were said to have married secretly at the Cathedral of the Holy Trinity in Saint Petersburg at some point between 23 October and 1 December 1707. Their official marriage was at Saint Isaac\\'s Cathedral in Saint Petersburg on 9 February 1712. On this day, the two children previously born to the couple (Anna and Elizabeth) were legitimised by their father and given the title of Tsarevna (\"princess\") on 6 March 1711. Of the twelve children born to Peter and Catherine (five sons and seven daughters), only the sisters survived to adulthood. They had one older surviving sibling, crown prince Alexei Petrovich, who was Peter\\'s son by his first wife, noblewoman Eudoxia Lopukhina.\\nAs a child, Elizabeth was the favourite of her father, whom she resembled both physically and temperamentally. Even though he adored his daughter, Peter did not devote time or attention to her education; having both a son and grandson from his first marriage to a noblewoman, he did not anticipate that a daughter born to his former maid might one day inherit the Russian throne, which had until that point never been occupied by a woman; as such, it was left to Catherine to raise the girls, a task met with considerable difficulty due to her own lack of education. Despite this, Elizabeth was still ')),\n",
              " GraphDocument(nodes=[Node(id='Queen Elizabeth I', type='Person', properties={}), Node(id='Portraiture', type='Concept', properties={}), Node(id='English Royal Portraits', type='Concept', properties={}), Node(id='Early Modern Period', type='Time period', properties={}), Node(id='Representations', type='Concept', properties={}), Node(id='Symbolic Objects', type='Concept', properties={}), Node(id='Roses', type='Concept', properties={}), Node(id='Prayer Books', type='Concept', properties={}), Node(id='Iconography Of Empire', type='Concept', properties={}), Node(id='Globes', type='Concept', properties={}), Node(id='Crowns', type='Concept', properties={}), Node(id='Swords', type='Concept', properties={}), Node(id='Columns', type='Concept', properties={}), Node(id='Virginity', type='Concept', properties={}), Node(id='Purity', type='Concept', properties={}), Node(id='Moons', type='Concept', properties={}), Node(id='Pearls', type='Concept', properties={}), Node(id='Classical Allusions', type='Concept', properties={}), Node(id='Story', type='Concept', properties={}), Node(id='Virgin Queen', type='Concept', properties={}), Node(id='Tudor Court', type='Concept', properties={}), Node(id='Henry Viii', type='Person', properties={}), Node(id='Portrait Miniature', type='Concept', properties={}), Node(id='Illuminated Manuscript Tradition', type='Concept', properties={}), Node(id='Personal Images', type='Concept', properties={}), Node(id='Watercolours', type='Concept', properties={}), Node(id='Vellum', type='Concept', properties={}), Node(id='Playing Card', type='Concept', properties={}), Node(id='Panel Paintings', type='Concept', properties={}), Node(id='Oils', type='Concept', properties={}), Node(id='Prepared Wood Surfaces', type='Concept', properties={}), Node(id='Preparatory Drawings', type='Concept', properties={}), Node(id='Oil Paintings', type='Concept', properties={}), Node(id='Canvas', type='Concept', properties={}), Node(id='France', type='Country', properties={}), Node(id='Nicholas Hilliard', type='Person', properties={}), Node(id='Limner', type='Concept', properties={}), Node(id='Miniaturist', type='Concept', properties={}), Node(id='Goldsmith', type='Concept', properties={}), Node(id='George Gower', type='Person', properties={}), Node(id='Serjeant Painter', type='Concept', properties={}), Node(id='Artists', type='Concept', properties={}), Node(id='Cornelis Ketel', type='Person', properties={}), Node(id='Federico Zuccaro', type='Person', properties={}), Node(id='Isaac Oliver', type='Person', properties={}), Node(id='Marcus Gheeraerts The Younger', type='Person', properties={}), Node(id='Government', type='Organization', properties={}), Node(id='Foreign Monarchs', type='Concept', properties={}), Node(id='Prospective Suitors', type='Concept', properties={}), Node(id='Courtiers', type='Concept', properties={}), Node(id='Long Galleries', type='Concept', properties={}), Node(id='Elizabethan Country Houses', type='Concept', properties={}), Node(id='Sets Of Portraits', type='Concept', properties={}), Node(id='Studios', type='Concept', properties={}), Node(id='Approved Face Patterns', type='Concept', properties={}), Node(id='Loyalty', type='Concept', properties={}), Node(id='Reverence', type='Concept', properties={}), Node(id='Crown', type='Concept', properties={}), Node(id='Turbulence', type='Concept', properties={})], relationships=[Relationship(source=Node(id='Queen Elizabeth I', type='Person', properties={}), target=Node(id='Portraiture', type='Concept', properties={}), type='INVOLVED_IN', properties={}), Relationship(source=Node(id='Portraiture', type='Concept', properties={}), target=Node(id='English Royal Portraits', type='Concept', properties={}), type='INVOLVES', properties={}), Relationship(source=Node(id='Portraiture', type='Concept', properties={}), target=Node(id='Early Modern Period', type='Time period', properties={}), type='SPANS', properties={}), Relationship(source=Node(id='Portraiture', type='Concept', properties={}), target=Node(id='Representations', type='Concept', properties={}), type='CONTAINS', properties={}), Relationship(source=Node(id='Representations', type='Concept', properties={}), target=Node(id='Symbolic Objects', type='Concept', properties={}), type='INCLUDE', properties={}), Relationship(source=Node(id='Symbolic Objects', type='Concept', properties={}), target=Node(id='Roses', type='Concept', properties={}), type='INCLUDE', properties={}), Relationship(source=Node(id='Symbolic Objects', type='Concept', properties={}), target=Node(id='Prayer Books', type='Concept', properties={}), type='INCLUDE', properties={}), Relationship(source=Node(id='English Royal Portraits', type='Concept', properties={}), target=Node(id='Iconography Of Empire', type='Concept', properties={}), type='DEPICTS', properties={}), Relationship(source=Node(id='Iconography Of Empire', type='Concept', properties={}), target=Node(id='Globes', type='Concept', properties={}), type='INCLUDE', properties={}), Relationship(source=Node(id='Iconography Of Empire', type='Concept', properties={}), target=Node(id='Crowns', type='Concept', properties={}), type='INCLUDE', properties={}), Relationship(source=Node(id='Iconography Of Empire', type='Concept', properties={}), target=Node(id='Swords', type='Concept', properties={}), type='INCLUDE', properties={}), Relationship(source=Node(id='Iconography Of Empire', type='Concept', properties={}), target=Node(id='Columns', type='Concept', properties={}), type='INCLUDE', properties={}), Relationship(source=Node(id='Iconography Of Empire', type='Concept', properties={}), target=Node(id='Virginity', type='Concept', properties={}), type='INCLUDE', properties={}), Relationship(source=Node(id='Iconography Of Empire', type='Concept', properties={}), target=Node(id='Purity', type='Concept', properties={}), type='INCLUDE', properties={}), Relationship(source=Node(id='Iconography Of Empire', type='Concept', properties={}), target=Node(id='Moons', type='Concept', properties={}), type='INCLUDE', properties={}), Relationship(source=Node(id='Iconography Of Empire', type='Concept', properties={}), target=Node(id='Pearls', type='Concept', properties={}), type='INCLUDE', properties={}), Relationship(source=Node(id='Iconography Of Empire', type='Concept', properties={}), target=Node(id='Classical Allusions', type='Concept', properties={}), type='INCLUDE', properties={}), Relationship(source=Node(id='Iconography Of Empire', type='Concept', properties={}), target=Node(id='Story', type='Concept', properties={}), type='INCLUDE', properties={}), Relationship(source=Node(id='Story', type='Concept', properties={}), target=Node(id='Virgin Queen', type='Concept', properties={}), type='DEPICTS', properties={}), Relationship(source=Node(id='Tudor Court', type='Concept', properties={}), target=Node(id='Henry Viii', type='Person', properties={}), type='INFLUENCED_BY', properties={}), Relationship(source=Node(id='Tudor Court', type='Concept', properties={}), target=Node(id='Portrait Miniature', type='Concept', properties={}), type='DEVELOPED_FROM', properties={}), Relationship(source=Node(id='Portrait Miniature', type='Concept', properties={}), target=Node(id='Illuminated Manuscript Tradition', type='Concept', properties={}), type='DEVELOPED_FROM', properties={}), Relationship(source=Node(id='Portrait Miniature', type='Concept', properties={}), target=Node(id='Personal Images', type='Concept', properties={}), type='DEPICTS', properties={}), Relationship(source=Node(id='Portrait Miniature', type='Concept', properties={}), target=Node(id='Watercolours', type='Concept', properties={}), type='CREATED_WITH', properties={}), Relationship(source=Node(id='Portrait Miniature', type='Concept', properties={}), target=Node(id='Vellum', type='Concept', properties={}), type='CREATED_WITH', properties={}), Relationship(source=Node(id='Portrait Miniature', type='Concept', properties={}), target=Node(id='Playing Card', type='Concept', properties={}), type='STIFFENED_BY', properties={}), Relationship(source=Node(id='Panel Paintings', type='Concept', properties={}), target=Node(id='Oils', type='Concept', properties={}), type='CREATED_WITH', properties={}), Relationship(source=Node(id='Panel Paintings', type='Concept', properties={}), target=Node(id='Prepared Wood Surfaces', type='Concept', properties={}), type='CREATED_ON', properties={}), Relationship(source=Node(id='Oils', type='Concept', properties={}), target=Node(id='Preparatory Drawings', type='Concept', properties={}), type='BASED_ON', properties={}), Relationship(source=Node(id='Oils', type='Concept', properties={}), target=Node(id='Life Size', type='Concept', properties={}), type='EXECUTED_AT', properties={}), Relationship(source=Node(id='Oils', type='Concept', properties={}), target=Node(id='Oil Paintings', type='Concept', properties={}), type='CREATED_ON', properties={}), Relationship(source=Node(id='Oil Paintings', type='Concept', properties={}), target=Node(id='Canvas', type='Concept', properties={}), type='CREATED_ON', properties={}), Relationship(source=Node(id='France', type='Country', properties={}), target=Node(id='Elizabeth I', type='Person', properties={}), type='CONTRASTS_WITH', properties={}), Relationship(source=Node(id='Elizabeth I', type='Person', properties={}), target=Node(id='Nicholas Hilliard', type='Person', properties={}), type='SAT_FOR', properties={}), Relationship(source=Node(id='Elizabeth I', type='Person', properties={}), target=Node(id='Cornelis Ketel', type='Person', properties={}), type='SAT_FOR', properties={}), Relationship(source=Node(id='Elizabeth I', type='Person', properties={}), target=Node(id='Federico Zuccaro', type='Person', properties={}), type='SAT_FOR', properties={}), Relationship(source=Node(id='Elizabeth I', type='Person', properties={}), target=Node(id='Isaac Oliver', type='Person', properties={}), type='SAT_FOR', properties={}), Relationship(source=Node(id='Elizabeth I', type='Person', properties={}), target=Node(id='George Gower', type='Person', properties={}), type='SAT_FOR', properties={}), Relationship(source=Node(id='Elizabeth I', type='Person', properties={}), target=Node(id='Marcus Gheeraerts The Younger', type='Person', properties={}), type='SAT_FOR', properties={}), Relationship(source=Node(id='Government', type='Organization', properties={}), target=Node(id='Foreign Monarchs', type='Concept', properties={}), type='COMMISSIONED_BY', properties={}), Relationship(source=Node(id='Government', type='Organization', properties={}), target=Node(id='Prospective Suitors', type='Concept', properties={}), type='COMMISSIONED_BY', properties={}), Relationship(source=Node(id='Courtiers', type='Concept', properties={}), target=Node(id='Sets Of Portraits', type='Concept', properties={}), type='FILLED_WITH', properties={}), Relationship(source=Node(id='Studios', type='Concept', properties={}), target=Node(id='Approved Face Patterns', type='Concept', properties={}), type='PRODUCED_USING', properties={}), Relationship(source=Node(id='Approved Face Patterns', type='Concept', properties={}), target=Node(id='Elizabeth I', type='Person', properties={}), type='BASED_ON', properties={}), Relationship(source=Node(id='Approved Face Patterns', type='Concept', properties={}), target=Node(id='Loyalty', type='Concept', properties={}), type='SYMBOLIZES', properties={}), Relationship(source=Node(id='Approved Face Patterns', type='Concept', properties={}), target=Node(id='Reverence', type='Concept', properties={}), type='SYMBOLIZES', properties={}), Relationship(source=Node(id='Approved Face Patterns', type='Concept', properties={}), target=Node(id='Crown', type='Concept', properties={}), type='SYMBOLIZES', properties={}), Relationship(source=Node(id='Approved Face Patterns', type='Concept', properties={}), target=Node(id='Turbulence', type='Concept', properties={}), type='SYMBOLIZES', properties={})], source=Document(metadata={'title': 'Portraiture of Elizabeth I', 'summary': 'The portraiture of Queen Elizabeth I (1533–1603) spans the evolution of English royal portraits in the early modern period (1400/1500-1800), from the earliest representations of simple likenesses to the later complex imagery used to convey the power and aspirations of the state, as well as of the monarch at its head.\\nEven the earliest portraits of Elizabeth I contain symbolic objects such as roses and prayer books that would have carried meaning to viewers of her day. Later portraits of Elizabeth layer the iconography of empire—globes, crowns, swords and columns—and representations of virginity and purity, such as moons and pearls, with classical allusions, to present a complex \"story\" that conveyed to Elizabethan era viewers the majesty and significance of the \\'Virgin Queen\\'.\\n\\n', 'source': 'https://en.wikipedia.org/wiki/Portraiture_of_Elizabeth_I'}, page_content='The portraiture of Queen Elizabeth I (1533–1603) spans the evolution of English royal portraits in the early modern period (1400/1500-1800), from the earliest representations of simple likenesses to the later complex imagery used to convey the power and aspirations of the state, as well as of the monarch at its head.\\nEven the earliest portraits of Elizabeth I contain symbolic objects such as roses and prayer books that would have carried meaning to viewers of her day. Later portraits of Elizabeth layer the iconography of empire—globes, crowns, swords and columns—and representations of virginity and purity, such as moons and pearls, with classical allusions, to present a complex \"story\" that conveyed to Elizabethan era viewers the majesty and significance of the \\'Virgin Queen\\'.\\n\\n\\n== Overview ==\\n\\n\\n=== Portraiture in Tudor England ===\\n\\nTwo portraiture traditions had arisen in the Tudor court since the days of Elizabeth\\'s father, Henry VIII. The portrait miniature developed from the illuminated manuscript tradition. These small personal images were almost invariably painted from life over the space of a few days in watercolours on vellum, stiffened by being glued to a playing card. Panel paintings in oils on prepared wood surfaces were based on preparatory drawings and were usually executed at life size, as were oil paintings on canvas.\\nUnlike her contemporaries in France, Elizabeth never granted rights to produce her portrait to a single artist, although Nicholas Hilliard was appointed her official limner, or miniaturist and goldsmith. George Gower, a fashionable court portraitist created Serjeant Painter in 1581, was responsible for approving all portraits of the queen created by other artists from 1581 until his death in 1596.\\nElizabeth sat for a number of artists over the years, including Hilliard, Cornelis Ketel, Federico Zuccaro or Zuccari, Isaac Oliver, and most likely to Gower and Marcus Gheeraerts the Younger. Portraits were commissioned by the government as gifts to foreign monarchs and to show to prospective suitors. Courtiers commissioned heavily symbolic paintings to demonstrate their devotion to the queen, and the fashionable long galleries of later Elizabethan country houses were filled with sets of portraits. The studios of Tudor artists produced images of Elizabeth working from approved \"face patterns\", or approved drawings of the queen, to meet this growing demand for her image, an important symbol of loyalty and reverence for the crown in times of turbulence.\\n\\n\\n===')),\n",
              " GraphDocument(nodes=[Node(id='Hans Holbein The Younger', type='Artist', properties={}), Node(id='Henry Viii', type='Monarch', properties={}), Node(id='Elizabeth', type='Monarch', properties={}), Node(id='Jane Seymour', type='Person', properties={}), Node(id='Titian', type='Artist', properties={}), Node(id='Philip Ii Of Spain', type='Monarch', properties={})], relationships=[Relationship(source=Node(id='Hans Holbein The Younger', type='Artist', properties={}), target=Node(id='Henry Viii', type='Monarch', properties={}), type='COURT_ARTIST', properties={}), Relationship(source=Node(id='Hans Holbein The Younger', type='Artist', properties={}), target=Node(id='Elizabeth', type='Monarch', properties={}), type='PORTRAITIST', properties={}), Relationship(source=Node(id='Hans Holbein The Younger', type='Artist', properties={}), target=Node(id='Jane Seymour', type='Person', properties={}), type='PORTRAIT', properties={}), Relationship(source=Node(id='Titian', type='Artist', properties={}), target=Node(id='Philip Ii Of Spain', type='Monarch', properties={}), type='ROYAL_PORTRAIT', properties={})], source=Document(metadata={'title': 'Portraiture of Elizabeth I', 'summary': 'The portraiture of Queen Elizabeth I (1533–1603) spans the evolution of English royal portraits in the early modern period (1400/1500-1800), from the earliest representations of simple likenesses to the later complex imagery used to convey the power and aspirations of the state, as well as of the monarch at its head.\\nEven the earliest portraits of Elizabeth I contain symbolic objects such as roses and prayer books that would have carried meaning to viewers of her day. Later portraits of Elizabeth layer the iconography of empire—globes, crowns, swords and columns—and representations of virginity and purity, such as moons and pearls, with classical allusions, to present a complex \"story\" that conveyed to Elizabethan era viewers the majesty and significance of the \\'Virgin Queen\\'.\\n\\n', 'source': 'https://en.wikipedia.org/wiki/Portraiture_of_Elizabeth_I'}, page_content=' growing demand for her image, an important symbol of loyalty and reverence for the crown in times of turbulence.\\n\\n\\n=== European context ===\\n\\nBy far the most impressive models of portraiture available to English portraitists were the many portraits by Hans Holbein the Younger, the outstanding Northern portraitist of the first half of the 16th century, who had made two lengthy visits to England, and had been Henry VIII\\'s court artist. Holbein had accustomed the English court to the full-length life-size portrait, although none of his originals now survive. His great dynastic mural at Whitehall Palace, destroyed in 1698, and perhaps other original large portraits, would have been familiar to Elizabethan artists.\\nBoth Holbein and his great Italian contemporary Titian had combined great psychological penetration with a sufficiently majestic impression to satisfy their royal patrons. By his second visit, Holbein had already begun to move away from a strictly realist depiction; in his Jane Seymour, \"the figure is no longer seen as displacing with its bulk a recognizable section of space: it approaches rather to a flat pattern, made alive by a bounding and vital outline\". This tendency was to be taken much further by the later portraits of Elizabeth, where \"Likeness of feature and an interest in form and volume have gradually been abandoned in favour of an effect of splendid majesty obtained by decorative pattern, and the forms have been flattened accordingly\".\\n\\nTitian continued to paint royal portraits, especially of Philip II of Spain, until the 1570s, but in sharply reduce'))]"
            ]
          },
          "metadata": {},
          "execution_count": 13
        }
      ]
    },
    {
      "cell_type": "code",
      "source": [
        "graph.add_graph_documents(\n",
        "    graph_documents,\n",
        "    baseEntityLabel=True,\n",
        "    include_source = True\n",
        ")\n",
        "# once after executing this we can see all the data in neo4j database."
      ],
      "metadata": {
        "id": "NwuyAahR1ha8"
      },
      "execution_count": 14,
      "outputs": []
    },
    {
      "cell_type": "code",
      "source": [
        "\n",
        "# directly show the graph resulting from the given Cypher query\n",
        "default_cypher = \"MATCH (s)-[r:!MENTIONS]->(t) RETURN s,r,t LIMIT 50\""
      ],
      "metadata": {
        "id": "rZv4q7u-Ue7f"
      },
      "execution_count": 15,
      "outputs": []
    },
    {
      "cell_type": "code",
      "source": [
        "from yfiles_jupyter_graphs import GraphWidget\n",
        "from neo4j import GraphDatabase"
      ],
      "metadata": {
        "id": "eNOPAPSFUmaF"
      },
      "execution_count": 16,
      "outputs": []
    },
    {
      "cell_type": "code",
      "source": [
        "try:\n",
        "  import google.colab\n",
        "  from google.colab import output\n",
        "  output.enable_custom_widget_manager()\n",
        "except:\n",
        "  pass"
      ],
      "metadata": {
        "id": "Tz_zVcRs5S7z"
      },
      "execution_count": 17,
      "outputs": []
    },
    {
      "cell_type": "code",
      "source": [
        "# This below code is to visualize how the graph looks like\n",
        "\n",
        "\n",
        "\n",
        "def showGraph(cypher: str = default_cypher):\n",
        "  driver = GraphDatabase.driver(\n",
        "      uri = NEO4J_URI,\n",
        "      auth = (NEO4J_USERNAME, NEO4J_PASSWORD))\n",
        "  session = driver.session()\n",
        "  widget = GraphWidget(graph = session.run(cypher).graph())\n",
        "  widget.node_label_mapping = 'id'\n",
        "  display(widget)\n",
        "\n",
        "  return widget"
      ],
      "metadata": {
        "id": "9Ob5e_2116th"
      },
      "execution_count": 18,
      "outputs": []
    },
    {
      "cell_type": "code",
      "source": [
        "showGraph()"
      ],
      "metadata": {
        "colab": {
          "base_uri": "https://localhost:8080/",
          "height": 1000,
          "referenced_widgets": [
            "3425fc4e21474f68b7fdd16b394f7a5e",
            "8c6b36940701421a8df3c3fa16362d77"
          ]
        },
        "id": "4Uzs-48Y22lq",
        "outputId": "2da60a40-6a24-448f-87d6-ed4a5a3d8917"
      },
      "execution_count": 19,
      "outputs": [
        {
          "output_type": "display_data",
          "data": {
            "text/plain": [
              "GraphWidget(layout=Layout(height='800px', width='100%'))"
            ],
            "application/vnd.jupyter.widget-view+json": {
              "version_major": 2,
              "version_minor": 0,
              "model_id": "3425fc4e21474f68b7fdd16b394f7a5e"
            }
          },
          "metadata": {
            "application/vnd.jupyter.widget-view+json": {
              "colab": {
                "custom_widget_manager": {
                  "url": "https://ssl.gstatic.com/colaboratory-static/widgets/colab-cdn-widget-manager/2b70e893a8ba7c0f/manager.min.js"
                }
              }
            }
          }
        },
        {
          "output_type": "display_data",
          "data": {
            "text/plain": [
              "GraphWidget(layout=Layout(height='800px', width='100%'))"
            ],
            "application/vnd.jupyter.widget-view+json": {
              "version_major": 2,
              "version_minor": 0,
              "model_id": "3425fc4e21474f68b7fdd16b394f7a5e"
            }
          },
          "metadata": {
            "application/vnd.jupyter.widget-view+json": {
              "colab": {
                "custom_widget_manager": {
                  "url": "https://ssl.gstatic.com/colaboratory-static/widgets/colab-cdn-widget-manager/2b70e893a8ba7c0f/manager.min.js"
                }
              }
            }
          }
        }
      ]
    },
    {
      "cell_type": "code",
      "source": [
        "from langchain_openai import OpenAIEmbeddings\n",
        "from langchain_community.vectorstores import Neo4jVector\n",
        "from langchain_core.prompts import ChatPromptTemplate\n",
        "from langchain_core.prompts.prompt import PromptTemplate"
      ],
      "metadata": {
        "id": "uy01_QVr-5GI"
      },
      "execution_count": 21,
      "outputs": []
    },
    {
      "cell_type": "code",
      "source": [
        "\n",
        "vector_index = Neo4jVector.from_existing_graph(\n",
        "    OpenAIEmbeddings(api_key = OPENAI_API_KEY),\n",
        "    search_type=\"hybrid\",\n",
        "    node_label=\"Document\",\n",
        "    text_node_properties=[\"text\"],\n",
        "    embedding_node_property=\"embedding\",\n",
        "    url=NEO4J_URI,\n",
        "    username=NEO4J_USERNAME,\n",
        "    password=NEO4J_PASSWORD\n",
        ")\n",
        "\n"
      ],
      "metadata": {
        "id": "b9wJGFXI26qG"
      },
      "execution_count": 24,
      "outputs": []
    },
    {
      "cell_type": "markdown",
      "source": [
        "The above code snippet sets up a vector index within a Neo4j graph database, enabling efficient similarity searches on your data. Here's a breakdown of its functionality and the parameters used:\n",
        "\n",
        "**Functionality**\n",
        "\n",
        "The code uses the `Neo4jVector` class from LangChain to connect to an existing Neo4j graph database and prepare it for storing and searching through vector embeddings of your text data.  Vector embeddings are numerical representations of text that capture the meaning and context of words and sentences. This allows you to perform semantic searches (finding similar documents based on meaning, not just keywords).\n",
        "\n",
        "**Parameters Explained**\n",
        "\n",
        "* **`OpenAIEmbeddings(api_key=OPENAI_API_KEY)`:** This creates an instance of the `OpenAIEmbeddings` class, which will be used to generate the vector embeddings for your text. You'll need to provide your OpenAI API key to use this.\n",
        "\n",
        "* **`search_type='hybrid'`:** This specifies that the vector index should support both \"hybrid\" searches. This means you can search based on both the meaning of the text (using vector similarity) and specific keywords.\n",
        "\n",
        "* **`node_label='Document'`:**  This defines the label that will be used for the nodes in your Neo4j database that store the text documents. This helps organize your data within the graph.\n",
        "\n",
        "* **`text_node_properties=['text']`:** This tells the `Neo4jVector` class which properties on the nodes in your Neo4j database contain the actual text content. In this case, it's assuming a property called \"text\".\n",
        "\n",
        "* **`embedding_node_property='embedding'`:** This specifies the name of the property on the nodes where the vector embeddings will be stored.\n",
        "\n",
        "* **`url=NEO4J_URI`:** The address of your Neo4j database server (e.g., \"bolt://localhost:7687\").\n",
        "\n",
        "* **`username=NEO4J_USERNAME`:** Your username for the Neo4j database.\n",
        "\n",
        "* **`password=NEO4J_PASSWORD`:** Your password for the Neo4j database.\n",
        "\n",
        "**In Simple Terms**\n",
        "\n",
        "Imagine you have a library of documents. This code sets up a system within your Neo4j database to:\n",
        "\n",
        "1.  Convert each document into a special numerical code (an embedding) that captures its meaning.\n",
        "2.  Store these codes and the original documents in the database.\n",
        "3.  Allow you to search for similar documents by providing a sample text or keywords.\n",
        "\n",
        "This is incredibly useful for applications like:\n",
        "\n",
        "*   **Semantic search:** Finding documents related to a topic even if they don't use the exact same words.\n",
        "*   **Recommendations:** Suggesting similar documents or products based on user preferences.\n",
        "*   **Clustering:** Grouping similar documents together.\n"
      ],
      "metadata": {
        "id": "o21jVNl9_h7G"
      }
    },
    {
      "cell_type": "code",
      "source": [
        "graph.query(\"CREATE FULLTEXT INDEX entity IF NOT EXISTS FOR (e:__Entity__) ON EACH [e.id]\")"
      ],
      "metadata": {
        "colab": {
          "base_uri": "https://localhost:8080/"
        },
        "id": "rwpfq0URVn5c",
        "outputId": "f5cc5ebb-ffbf-4870-e574-9d5b2c748146"
      },
      "execution_count": 25,
      "outputs": [
        {
          "output_type": "execute_result",
          "data": {
            "text/plain": [
              "[]"
            ]
          },
          "metadata": {},
          "execution_count": 25
        }
      ]
    },
    {
      "cell_type": "code",
      "source": [
        "\n",
        "from langchain_core.pydantic_v1 import BaseModel, Field\n",
        "from typing import Tuple, List, Optional\n",
        "# Extract entities from text\n",
        "class Entities(BaseModel):\n",
        "    \"\"\"Identifying information about entities.\"\"\"\n",
        "\n",
        "    names: List[str] = Field(\n",
        "        ...,\n",
        "        description=\"All the person, organization, or business entities that \"\n",
        "        \"appear in the text\",\n",
        "    )\n"
      ],
      "metadata": {
        "colab": {
          "base_uri": "https://localhost:8080/"
        },
        "id": "hpR-k4Y-8gMi",
        "outputId": "b3dc3237-fb27-4272-ce2a-988f91f8b327"
      },
      "execution_count": 26,
      "outputs": [
        {
          "output_type": "stream",
          "name": "stderr",
          "text": [
            "/usr/local/lib/python3.10/dist-packages/IPython/core/interactiveshell.py:3553: LangChainDeprecationWarning: As of langchain-core 0.3.0, LangChain uses pydantic v2 internally. The langchain_core.pydantic_v1 module was a compatibility shim for pydantic v1, and should no longer be used. Please update the code to import from Pydantic directly.\n",
            "\n",
            "For example, replace imports like: `from langchain_core.pydantic_v1 import BaseModel`\n",
            "with: `from pydantic import BaseModel`\n",
            "or the v1 compatibility namespace if you are working in a code base that has not been fully upgraded to pydantic 2 yet. \tfrom pydantic.v1 import BaseModel\n",
            "\n",
            "  exec(code_obj, self.user_global_ns, self.user_ns)\n"
          ]
        }
      ]
    },
    {
      "cell_type": "markdown",
      "source": [
        "This code defines a data structure called `Entities` to represent information extracted from text, specifically the names of entities found within that text. Let's break down the components:\n",
        "\n",
        "**1. `from langchain_core.pydantic_v1 import BaseModel, Field`**\n",
        "\n",
        "This line imports necessary tools from the `langchain_core` library:\n",
        "\n",
        "*   **`BaseModel`:** This is the foundation for creating data structures (classes) with Pydantic. It provides helpful features like type validation, data serialization, and documentation generation.\n",
        "*   **`Field`:** This is used to define attributes (fields) within your data structure and add metadata like descriptions and validation rules.\n",
        "\n",
        "**2. `from typing import List, Tuple, Optional, Any`**\n",
        "\n",
        "This imports type hints, which are used to specify the expected data types for variables and function parameters. In this case:\n",
        "\n",
        "*   **`List`:** Indicates a list of items (e.g., a list of strings).\n",
        "\n",
        "**3. `class Entities(BaseModel):`**\n",
        "\n",
        "This defines a new class called `Entities` that inherits from `BaseModel`. This means `Entities` will have all the features of `BaseModel` (type validation, etc.).\n",
        "\n",
        "**4. `\"\"\"Identifying information about entities\"\"\"`**\n",
        "\n",
        "This is a docstring that provides a brief description of the `Entities` class.\n",
        "\n",
        "**5. `names: List[str] = Field(...)`**\n",
        "\n",
        "This defines an attribute called `names` within the `Entities` class:\n",
        "\n",
        "*   **`names`:** The name of the attribute.\n",
        "*   **`List[str]`:**  Specifies that `names` should be a list of strings (a list of entity names).\n",
        "*   **`Field(...)`:**  Provides additional information about the field:\n",
        "    *   **`description=\"All the person, organization, or business entities that appear in the text\"`:**  A description of what the `names` field represents.\n",
        "\n",
        "**What is Pydantic (`pydantic_v1`) used for?**\n",
        "\n",
        "Pydantic is a powerful library primarily used for:\n",
        "\n",
        "*   **Data validation:** Ensures that data conforms to the expected types and constraints.\n",
        "*   **Data serialization:** Converts data between different formats (e.g., Python objects to JSON).\n",
        "*   **Settings management:**  Defines and validates configuration settings for applications.\n",
        "*   **Documentation:**  Generates documentation from your data structures (especially useful with tools like OpenAPI).\n",
        "\n",
        "**In simpler terms:**\n",
        "\n",
        "Imagine you're building a form to collect information about people. Pydantic helps you define what information is required (name, age, etc.), what type of data each field should contain (text, number), and provides helpful error messages if someone enters incorrect information.\n",
        "\n",
        "**Key benefits of using Pydantic:**\n",
        "\n",
        "*   **Reduced bugs:** Catches data errors early on.\n",
        "*   **Improved code readability:** Makes your code clearer and easier to understand.\n",
        "*   **Faster development:**  Automates data validation and serialization.\n",
        "*   **Better documentation:** Helps you generate clear and concise documentation."
      ],
      "metadata": {
        "id": "9rD8CcQ8CR7Y"
      }
    },
    {
      "cell_type": "code",
      "source": [
        "from langchain_core.prompts import ChatPromptTemplate\n",
        "from langchain_core.prompts.prompt import PromptTemplate\n",
        "prompt = ChatPromptTemplate.from_messages(\n",
        "    [\n",
        "        (\n",
        "            \"system\",\n",
        "            \"You are extracting organization and person entities from the text.\",\n",
        "        ),\n",
        "        (\n",
        "            \"human\",\n",
        "            \"Use the given format to extract information from the following \"\n",
        "            \"input: {question}\",\n",
        "        ),\n",
        "    ]\n",
        ")"
      ],
      "metadata": {
        "id": "J5GF0s37BUEh"
      },
      "execution_count": 28,
      "outputs": []
    },
    {
      "cell_type": "code",
      "source": [
        "entity_chain = prompt | llm.with_structured_output(Entities)"
      ],
      "metadata": {
        "id": "iOAJ4U8vDJ07"
      },
      "execution_count": 29,
      "outputs": []
    },
    {
      "cell_type": "code",
      "source": [
        "entity_chain.invoke({\"question\": \"Where was Amelia Earhart born?\"}).names\n",
        ""
      ],
      "metadata": {
        "colab": {
          "base_uri": "https://localhost:8080/"
        },
        "id": "TfPQ8Ss-ETZJ",
        "outputId": "c99f8537-5552-4577-bf94-1c92260464de"
      },
      "execution_count": 30,
      "outputs": [
        {
          "output_type": "execute_result",
          "data": {
            "text/plain": [
              "['Amelia Earhart']"
            ]
          },
          "metadata": {},
          "execution_count": 30
        }
      ]
    },
    {
      "cell_type": "code",
      "source": [
        "from langchain_community.vectorstores.neo4j_vector import remove_lucene_chars"
      ],
      "metadata": {
        "id": "9ux-YLkvEwwZ"
      },
      "execution_count": 31,
      "outputs": []
    },
    {
      "cell_type": "code",
      "source": [
        "def generate_full_text_query(input: str) -> str:\n",
        "    full_text_query = \"\"\n",
        "    words = [el for el in remove_lucene_chars(input).split() if el]\n",
        "    for word in words[:-1]:\n",
        "        full_text_query += f\" {word}~2 AND\"\n",
        "    full_text_query += f\" {words[-1]}~2\"\n",
        "    return full_text_query.strip()"
      ],
      "metadata": {
        "id": "_Z9r2Q39Zb2W"
      },
      "execution_count": 36,
      "outputs": []
    },
    {
      "cell_type": "code",
      "source": [
        "def structured_retriever(question: str) -> str:\n",
        "    result = \"\"\n",
        "    entities = entity_chain.invoke({\"question\": question})\n",
        "    for entity in entities.names:\n",
        "        response = graph.query(\n",
        "            \"\"\"CALL db.index.fulltext.queryNodes('entity', $query, {limit:2})\n",
        "            YIELD node,score\n",
        "            CALL {\n",
        "              WITH node,score\n",
        "              MATCH (node)-[r:!MENTIONS]->(neighbor)\n",
        "              RETURN node.id + ' - ' + type(r) + ' -> ' + neighbor.id AS output\n",
        "              UNION ALL\n",
        "              WITH node, score\n",
        "              MATCH (node)<-[r:!MENTIONS]-(neighbor)\n",
        "              RETURN neighbor.id + ' - ' + type(r) + ' -> ' +  node.id AS output\n",
        "            }\n",
        "            RETURN output LIMIT 50\n",
        "            \"\"\",\n",
        "            {\"query\": generate_full_text_query(entity)},\n",
        "        )\n",
        "        result += \"\\n\".join([el['output'] for el in response])\n",
        "    return result"
      ],
      "metadata": {
        "id": "KRZxPAeIZbwZ"
      },
      "execution_count": 57,
      "outputs": []
    },
    {
      "cell_type": "code",
      "source": [
        "print(structured_retriever(\"Who is Elizabeth I?\"))"
      ],
      "metadata": {
        "colab": {
          "base_uri": "https://localhost:8080/"
        },
        "id": "zrvtEYEfZbs-",
        "outputId": "f01c4028-a685-42df-84a2-f548a3c560c0"
      },
      "execution_count": 60,
      "outputs": [
        {
          "output_type": "stream",
          "name": "stderr",
          "text": [
            "WARNING:neo4j.notifications:Received notification from DBMS server: {severity: WARNING} {code: Neo.ClientNotification.Statement.FeatureDeprecationWarning} {category: DEPRECATION} {title: This feature is deprecated and will be removed in future versions.} {description: CALL subquery without a variable scope clause is now deprecated. Use CALL (node, score, node, score) { ... }} {position: line: 3, column: 16, offset: 110} for query: \"CALL db.index.fulltext.queryNodes('entity', $query, {limit:2})\\n               YIELD node,score\\n               CALL {\\n                   WITH node, score  // <-- Scope for the first MATCH\\n                   MATCH (node)-[r:!MENTIONS]->(neighbor)\\n                   RETURN node.id + ' - ' + type(r) + ' -> ' + neighbor.id AS output\\n                   UNION ALL\\n                   WITH node, score  // <-- Scope for the second MATCH \\n                   MATCH (node)<-[r:!MENTIONS]-(neighbor)\\n                   RETURN neighbor.id + ' - ' + type(r) + ' -> ' + node.id AS output\\n               }\\n               RETURN output LIMIT 50\\n               \"\n"
          ]
        },
        {
          "output_type": "stream",
          "name": "stdout",
          "text": [
            "\n"
          ]
        }
      ]
    },
    {
      "cell_type": "code",
      "source": [
        "\n",
        "def retriever(question: str):\n",
        "    print(f\"Search query: {question}\")\n",
        "    structured_data = structured_retriever(question)\n",
        "    unstructured_data = [el.page_content for el in vector_index.similarity_search(question)]\n",
        "    final_data = f\"\"\"Structured data:\n",
        "{structured_data}\n",
        "Unstructured data:\n",
        "{\"#Document \". join(unstructured_data)}\n",
        "    \"\"\"\n",
        "    return final_data\n",
        ""
      ],
      "metadata": {
        "id": "2IGpbVwlZbqo"
      },
      "execution_count": 39,
      "outputs": []
    },
    {
      "cell_type": "code",
      "source": [
        "\n",
        "_template = \"\"\"Given the following conversation and a follow up question, rephrase the follow up question to be a standalone question,\n",
        "in its original language.\n",
        "Chat History:\n",
        "{chat_history}\n",
        "Follow Up Input: {question}\n",
        "Standalone question:\"\"\""
      ],
      "metadata": {
        "id": "_Xdytpy3Zkjk"
      },
      "execution_count": 40,
      "outputs": []
    },
    {
      "cell_type": "code",
      "source": [
        "CONDENSE_QUESTION_PROMPT = PromptTemplate.from_template(_template)"
      ],
      "metadata": {
        "id": "PdC6mVl2ZoUb"
      },
      "execution_count": 41,
      "outputs": []
    },
    {
      "cell_type": "code",
      "source": [
        "from langchain_core.messages import HumanMessage, AIMessage\n",
        "\n",
        "def _format_chat_history(chat_history: List[Tuple[str, str]]) -> List:\n",
        "    buffer = []\n",
        "    for human, ai in chat_history:\n",
        "        buffer.append(HumanMessage(content=human))\n",
        "        buffer.append(AIMessage(content=ai))\n",
        "    return buffer"
      ],
      "metadata": {
        "id": "Q1JqV5soaBnq"
      },
      "execution_count": 43,
      "outputs": []
    },
    {
      "cell_type": "code",
      "source": [
        "from langchain_core.runnables import RunnableLambda, RunnablePassthrough,RunnableBranch, RunnableParallel\n",
        "from langchain_core.output_parsers import StrOutputParser"
      ],
      "metadata": {
        "id": "iZ08HajPaWF7"
      },
      "execution_count": 51,
      "outputs": []
    },
    {
      "cell_type": "code",
      "source": [
        "_search_query = RunnableBranch(\n",
        "    # If input includes chat_history, we condense it with the follow-up question\n",
        "    (\n",
        "        RunnableLambda(lambda x: bool(x.get(\"chat_history\"))).with_config(\n",
        "            run_name=\"HasChatHistoryCheck\"\n",
        "        ),  # Condense follow-up question and chat into a standalone_question\n",
        "        RunnablePassthrough.assign(\n",
        "            chat_history=lambda x: _format_chat_history(x[\"chat_history\"])\n",
        "        )\n",
        "        | CONDENSE_QUESTION_PROMPT\n",
        "        | ChatOpenAI(temperature=0, api_key = OPENAI_API_KEY)\n",
        "        | StrOutputParser(),\n",
        "    ),\n",
        "    # Else, we have no chat history, so just pass through the question\n",
        "    RunnableLambda(lambda x : x[\"question\"]),\n",
        ")"
      ],
      "metadata": {
        "id": "oo7Li_YUaD8L"
      },
      "execution_count": 47,
      "outputs": []
    },
    {
      "cell_type": "code",
      "source": [
        "template = \"\"\"Answer the question based only on the following context:\n",
        "{context}\n",
        "\n",
        "Question: {question}\n",
        "Use natural language and be concise.\n",
        "Answer:\"\"\""
      ],
      "metadata": {
        "id": "quSHRqpFaU-Q"
      },
      "execution_count": 48,
      "outputs": []
    },
    {
      "cell_type": "code",
      "source": [
        "prompt = ChatPromptTemplate.from_template(template)"
      ],
      "metadata": {
        "id": "TWApedRvbE4W"
      },
      "execution_count": 49,
      "outputs": []
    },
    {
      "cell_type": "code",
      "source": [
        "chain = (\n",
        "    RunnableParallel(\n",
        "        {\n",
        "            \"context\": _search_query | retriever,\n",
        "            \"question\": RunnablePassthrough(),\n",
        "        }\n",
        "    )\n",
        "    | prompt\n",
        "    | llm\n",
        "    | StrOutputParser()\n",
        ")"
      ],
      "metadata": {
        "id": "ewPv7dn4bHpL"
      },
      "execution_count": 52,
      "outputs": []
    },
    {
      "cell_type": "code",
      "source": [
        "chain.invoke({\"question\": \"Which house did Elizabeth I belong to?\"})"
      ],
      "metadata": {
        "colab": {
          "base_uri": "https://localhost:8080/",
          "height": 108
        },
        "id": "HNbVIXrTbJjT",
        "outputId": "872b35ca-9c9d-4d17-b84f-298036d60278"
      },
      "execution_count": 55,
      "outputs": [
        {
          "output_type": "stream",
          "name": "stdout",
          "text": [
            "Search query: Which house did Elizabeth I belong to?\n"
          ]
        },
        {
          "output_type": "stream",
          "name": "stderr",
          "text": [
            "WARNING:neo4j.notifications:Received notification from DBMS server: {severity: WARNING} {code: Neo.ClientNotification.Statement.FeatureDeprecationWarning} {category: DEPRECATION} {title: This feature is deprecated and will be removed in future versions.} {description: CALL subquery without a variable scope clause is now deprecated. Use CALL (node, node) { ... }} {position: line: 3, column: 13, offset: 104} for query: \"CALL db.index.fulltext.queryNodes('entity', $query, {limit:2})\\n            YIELD node,score\\n            CALL {\\n              WITH node\\n              MATCH (node)-[r:!MENTIONS]->(neighbor)\\n              RETURN node.id + ' - ' + type(r) + ' -> ' + neighbor.id AS output\\n              UNION ALL\\n              WITH node\\n              MATCH (node)<-[r:!MENTIONS]-(neighbor)\\n              RETURN neighbor.id + ' - ' + type(r) + ' -> ' +  node.id AS output\\n            }\\n            RETURN output LIMIT 50\\n            \"\n",
            "WARNING:neo4j.notifications:Received notification from DBMS server: {severity: WARNING} {code: Neo.ClientNotification.Statement.FeatureDeprecationWarning} {category: DEPRECATION} {title: This feature is deprecated and will be removed in future versions.} {description: CALL subquery without a variable scope clause is now deprecated. Use CALL () { ... }} {position: line: 1, column: 1, offset: 0} for query: \"CALL { CALL db.index.vector.queryNodes($index, $k, $embedding) YIELD node, score WITH collect({node:node, score:score}) AS nodes, max(score) AS max UNWIND nodes AS n RETURN n.node AS node, (n.score / max) AS score UNION CALL db.index.fulltext.queryNodes($keyword_index, $query, {limit: $k}) YIELD node, score WITH collect({node:node, score:score}) AS nodes, max(score) AS max UNWIND nodes AS n RETURN n.node AS node, (n.score / max) AS score } WITH node, max(score) AS score ORDER BY score DESC LIMIT $k RETURN reduce(str='', k IN ['text'] | str + '\\\\n' + k + ': ' + coalesce(node[k], '')) AS text, node {.*, `embedding`: Null, id: Null, `text`: Null} AS metadata, score\"\n"
          ]
        },
        {
          "output_type": "execute_result",
          "data": {
            "text/plain": [
              "'Elizabeth I belonged to the House of Tudor.'"
            ],
            "application/vnd.google.colaboratory.intrinsic+json": {
              "type": "string"
            }
          },
          "metadata": {},
          "execution_count": 55
        }
      ]
    },
    {
      "cell_type": "code",
      "source": [
        "\n",
        "\n",
        "chain.invoke(\n",
        "    {\n",
        "        \"question\": \"When was she born?\",\n",
        "        \"chat_history\": [(\"Which house did Elizabeth I belong to?\", \"House Of Tudor\")],\n",
        "    }\n",
        ")"
      ],
      "metadata": {
        "colab": {
          "base_uri": "https://localhost:8080/",
          "height": 108
        },
        "id": "n38omcySbQPm",
        "outputId": "085dfb3f-9586-488e-ffcc-d83ec4bb094e"
      },
      "execution_count": 61,
      "outputs": [
        {
          "output_type": "stream",
          "name": "stdout",
          "text": [
            "Search query: When was Elizabeth I born?\n"
          ]
        },
        {
          "output_type": "stream",
          "name": "stderr",
          "text": [
            "WARNING:neo4j.notifications:Received notification from DBMS server: {severity: WARNING} {code: Neo.ClientNotification.Statement.FeatureDeprecationWarning} {category: DEPRECATION} {title: This feature is deprecated and will be removed in future versions.} {description: CALL subquery without a variable scope clause is now deprecated. Use CALL (node, score, node, score) { ... }} {position: line: 3, column: 16, offset: 110} for query: \"CALL db.index.fulltext.queryNodes('entity', $query, {limit:2})\\n               YIELD node,score\\n               CALL {\\n                   WITH node, score  // <-- Scope for the first MATCH\\n                   MATCH (node)-[r:!MENTIONS]->(neighbor)\\n                   RETURN node.id + ' - ' + type(r) + ' -> ' + neighbor.id AS output\\n                   UNION ALL\\n                   WITH node, score  // <-- Scope for the second MATCH \\n                   MATCH (node)<-[r:!MENTIONS]-(neighbor)\\n                   RETURN neighbor.id + ' - ' + type(r) + ' -> ' + node.id AS output\\n               }\\n               RETURN output LIMIT 50\\n               \"\n",
            "WARNING:neo4j.notifications:Received notification from DBMS server: {severity: WARNING} {code: Neo.ClientNotification.Statement.FeatureDeprecationWarning} {category: DEPRECATION} {title: This feature is deprecated and will be removed in future versions.} {description: CALL subquery without a variable scope clause is now deprecated. Use CALL () { ... }} {position: line: 1, column: 1, offset: 0} for query: \"CALL { CALL db.index.vector.queryNodes($index, $k, $embedding) YIELD node, score WITH collect({node:node, score:score}) AS nodes, max(score) AS max UNWIND nodes AS n RETURN n.node AS node, (n.score / max) AS score UNION CALL db.index.fulltext.queryNodes($keyword_index, $query, {limit: $k}) YIELD node, score WITH collect({node:node, score:score}) AS nodes, max(score) AS max UNWIND nodes AS n RETURN n.node AS node, (n.score / max) AS score } WITH node, max(score) AS score ORDER BY score DESC LIMIT $k RETURN reduce(str='', k IN ['text'] | str + '\\\\n' + k + ': ' + coalesce(node[k], '')) AS text, node {.*, `embedding`: Null, id: Null, `text`: Null} AS metadata, score\"\n"
          ]
        },
        {
          "output_type": "execute_result",
          "data": {
            "text/plain": [
              "'Elizabeth I was born on 7 September 1533.'"
            ],
            "application/vnd.google.colaboratory.intrinsic+json": {
              "type": "string"
            }
          },
          "metadata": {},
          "execution_count": 61
        }
      ]
    },
    {
      "cell_type": "code",
      "source": [],
      "metadata": {
        "id": "reE5giLgcn_j"
      },
      "execution_count": null,
      "outputs": []
    }
  ]
}